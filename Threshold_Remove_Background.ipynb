{
 "cells": [
  {
   "cell_type": "code",
   "execution_count": 2,
   "metadata": {},
   "outputs": [],
   "source": [
    "import os\n",
    "import numpy as np\n",
    "import tifffile"
   ]
  },
  {
   "cell_type": "code",
   "execution_count": 3,
   "metadata": {},
   "outputs": [],
   "source": [
    "# Set the path to the directory containing the image stack\n",
    "image_dir = 'C:/Users/au519867/OneDrive - Aarhus universitet/Skrivebord/Raw_Images/RAW_Stacks'\n",
    "\n",
    "# Load the image stack as a numpy array\n",
    "image_stack = []\n",
    "for filename in os.listdir(image_dir):\n",
    "    image_stack.append(tifffile.imread(os.path.join(image_dir, filename)))\n",
    "image_stack = np.stack(image_stack)\n",
    "\n",
    "# Determine the threshold value. Should be a value below the bell curve for both the green and red channel.\n",
    "# Only applies if there is background in the image.\n",
    "threshold_value = 500\n",
    "\n",
    "# Loop through all the files in the directory\n",
    "for filename in os.listdir(image_dir):\n",
    "    # Load the image stack as a numpy array\n",
    "    image_stack = tifffile.imread(os.path.join(image_dir, filename))\n",
    "\n",
    "    # Apply the threshold\n",
    "    thresholded_stack = np.where(image_stack > threshold_value, image_stack, np.nan)\n",
    "\n",
    "    # Save the thresholded stack\n",
    "    tifffile.imwrite(os.path.join(image_dir, f\"thresholded_{filename}\"), thresholded_stack)"
   ]
  }
 ],
 "metadata": {
  "kernelspec": {
   "display_name": "Python 3",
   "language": "python",
   "name": "python3"
  },
  "language_info": {
   "codemirror_mode": {
    "name": "ipython",
    "version": 3
   },
   "file_extension": ".py",
   "mimetype": "text/x-python",
   "name": "python",
   "nbconvert_exporter": "python",
   "pygments_lexer": "ipython3",
   "version": "3.10.4"
  },
  "orig_nbformat": 4
 },
 "nbformat": 4,
 "nbformat_minor": 2
}
