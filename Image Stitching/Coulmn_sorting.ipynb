{
 "cells": [
  {
   "cell_type": "code",
   "execution_count": 3,
   "metadata": {},
   "outputs": [],
   "source": [
    "import os\n",
    "import shutil\n",
    "\n",
    "def move_images(source_directory, num_folders):\n",
    "    folders = [f'vertical_{i+1}' for i in range(num_folders)]\n",
    "    \n",
    "    # Create folders if they don't exist\n",
    "    for folder in folders:\n",
    "        if not os.path.exists(os.path.join(source_directory, folder)):\n",
    "            os.makedirs(os.path.join(source_directory, folder))\n",
    "\n",
    "    images = [img for img in os.listdir(source_directory) if img.endswith(('.tiff'))]\n",
    "    images.sort(key=lambda f: int(''.join(filter(str.isdigit, f))))\n",
    "\n",
    "    for index, image in enumerate(images):\n",
    "        # Calculate folder index\n",
    "        cycle = index // num_folders\n",
    "        position = index % num_folders\n",
    "        folder_index = (num_folders - 1 - position) if cycle % 2 else position\n",
    "\n",
    "        # Construct source and destination paths\n",
    "        source_path = os.path.join(source_directory, image)\n",
    "        destination_path = os.path.join(source_directory, folders[folder_index], image)\n",
    "\n",
    "        # Move the image\n",
    "        shutil.copy(source_path, destination_path)\n",
    "\n",
    "# Replace 'your_directory_path' with the path to the directory containing your images\n",
    "source_directory = 'D:\\Tests\\Anoxic_test\\Images_Calibrated'\n",
    "\n",
    "# Set the number of folders/columns here\n",
    "num_folders = 6\n",
    "\n",
    "move_images(source_directory, num_folders)\n"
   ]
  }
 ],
 "metadata": {
  "kernelspec": {
   "display_name": "base",
   "language": "python",
   "name": "python3"
  },
  "language_info": {
   "codemirror_mode": {
    "name": "ipython",
    "version": 3
   },
   "file_extension": ".py",
   "mimetype": "text/x-python",
   "name": "python",
   "nbconvert_exporter": "python",
   "pygments_lexer": "ipython3",
   "version": "3.11.4"
  }
 },
 "nbformat": 4,
 "nbformat_minor": 2
}
