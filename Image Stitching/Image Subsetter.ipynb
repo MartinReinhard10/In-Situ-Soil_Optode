{
 "cells": [
  {
   "cell_type": "code",
   "execution_count": 3,
   "metadata": {},
   "outputs": [
    {
     "ename": "PermissionError",
     "evalue": "[Errno 13] Permission denied: 'D:/Soil_images/3x8 sequence/Subset'",
     "output_type": "error",
     "traceback": [
      "\u001b[1;31m---------------------------------------------------------------------------\u001b[0m",
      "\u001b[1;31mPermissionError\u001b[0m                           Traceback (most recent call last)",
      "\u001b[1;32mc:\\Users\\au519867\\OneDrive - Aarhus universitet\\Skrivebord\\In-Situ-Soil_Optode\\Image Subsetter.ipynb Cell 1\u001b[0m line \u001b[0;36m3\n\u001b[0;32m     <a href='vscode-notebook-cell:/c%3A/Users/au519867/OneDrive%20-%20Aarhus%20universitet/Skrivebord/In-Situ-Soil_Optode/Image%20Subsetter.ipynb#W0sZmlsZQ%3D%3D?line=36'>37</a>\u001b[0m         source_image_path \u001b[39m=\u001b[39m os\u001b[39m.\u001b[39mpath\u001b[39m.\u001b[39mjoin(source_folder, image)\n\u001b[0;32m     <a href='vscode-notebook-cell:/c%3A/Users/au519867/OneDrive%20-%20Aarhus%20universitet/Skrivebord/In-Situ-Soil_Optode/Image%20Subsetter.ipynb#W0sZmlsZQ%3D%3D?line=37'>38</a>\u001b[0m         destination_image_path \u001b[39m=\u001b[39m os\u001b[39m.\u001b[39mpath\u001b[39m.\u001b[39mjoin(group_folder_path, image)\n\u001b[1;32m---> <a href='vscode-notebook-cell:/c%3A/Users/au519867/OneDrive%20-%20Aarhus%20universitet/Skrivebord/In-Situ-Soil_Optode/Image%20Subsetter.ipynb#W0sZmlsZQ%3D%3D?line=38'>39</a>\u001b[0m         shutil\u001b[39m.\u001b[39;49mcopy2(source_image_path, destination_image_path)\n\u001b[0;32m     <a href='vscode-notebook-cell:/c%3A/Users/au519867/OneDrive%20-%20Aarhus%20universitet/Skrivebord/In-Situ-Soil_Optode/Image%20Subsetter.ipynb#W0sZmlsZQ%3D%3D?line=40'>41</a>\u001b[0m \u001b[39mprint\u001b[39m(\u001b[39m\"\u001b[39m\u001b[39mImage groups copied successfully.\u001b[39m\u001b[39m\"\u001b[39m)\n",
      "File \u001b[1;32mc:\\Users\\au519867\\AppData\\Local\\Programs\\Python\\Python310\\lib\\shutil.py:434\u001b[0m, in \u001b[0;36mcopy2\u001b[1;34m(src, dst, follow_symlinks)\u001b[0m\n\u001b[0;32m    432\u001b[0m \u001b[39mif\u001b[39;00m os\u001b[39m.\u001b[39mpath\u001b[39m.\u001b[39misdir(dst):\n\u001b[0;32m    433\u001b[0m     dst \u001b[39m=\u001b[39m os\u001b[39m.\u001b[39mpath\u001b[39m.\u001b[39mjoin(dst, os\u001b[39m.\u001b[39mpath\u001b[39m.\u001b[39mbasename(src))\n\u001b[1;32m--> 434\u001b[0m copyfile(src, dst, follow_symlinks\u001b[39m=\u001b[39;49mfollow_symlinks)\n\u001b[0;32m    435\u001b[0m copystat(src, dst, follow_symlinks\u001b[39m=\u001b[39mfollow_symlinks)\n\u001b[0;32m    436\u001b[0m \u001b[39mreturn\u001b[39;00m dst\n",
      "File \u001b[1;32mc:\\Users\\au519867\\AppData\\Local\\Programs\\Python\\Python310\\lib\\shutil.py:254\u001b[0m, in \u001b[0;36mcopyfile\u001b[1;34m(src, dst, follow_symlinks)\u001b[0m\n\u001b[0;32m    252\u001b[0m     os\u001b[39m.\u001b[39msymlink(os\u001b[39m.\u001b[39mreadlink(src), dst)\n\u001b[0;32m    253\u001b[0m \u001b[39melse\u001b[39;00m:\n\u001b[1;32m--> 254\u001b[0m     \u001b[39mwith\u001b[39;00m \u001b[39mopen\u001b[39;49m(src, \u001b[39m'\u001b[39;49m\u001b[39mrb\u001b[39;49m\u001b[39m'\u001b[39;49m) \u001b[39mas\u001b[39;00m fsrc:\n\u001b[0;32m    255\u001b[0m         \u001b[39mtry\u001b[39;00m:\n\u001b[0;32m    256\u001b[0m             \u001b[39mwith\u001b[39;00m \u001b[39mopen\u001b[39m(dst, \u001b[39m'\u001b[39m\u001b[39mwb\u001b[39m\u001b[39m'\u001b[39m) \u001b[39mas\u001b[39;00m fdst:\n\u001b[0;32m    257\u001b[0m                 \u001b[39m# macOS\u001b[39;00m\n",
      "\u001b[1;31mPermissionError\u001b[0m: [Errno 13] Permission denied: 'D:/Soil_images/3x8 sequence/Subset'"
     ]
    }
   ],
   "source": [
    "import os\n",
    "import shutil\n",
    "import math\n",
    "from natsort import natsorted\n",
    "\n",
    "# Set the source folder path where your images are located\n",
    "source_folder = 'D:/Soil_images/3x8 sequence/'\n",
    "\n",
    "# Set the destination folder path where you want to save the subset of images\n",
    "destination_folder = 'D:/Soil_images/3x8 sequence/Subset'\n",
    "\n",
    "# Number of images in each group\n",
    "group_size = 24\n",
    "\n",
    "# List all files in the source folder and sort them using natsort\n",
    "image_files = natsorted(os.listdir(source_folder))\n",
    "\n",
    "# Calculate the number of groups\n",
    "num_groups = math.ceil(len(image_files) / group_size)\n",
    "\n",
    "# Loop through groups and copy images\n",
    "for i in range(num_groups):\n",
    "    # Calculate start and end index for the current group\n",
    "    start_index = i * group_size\n",
    "    end_index = (i + 1) * group_size\n",
    "    \n",
    "    # Select images for the current group\n",
    "    group_images = image_files[start_index:end_index]\n",
    "    \n",
    "    # Create a new folder for the current group\n",
    "    group_folder_name = f\"Hour_{i + 1}\"\n",
    "    group_folder_path = os.path.join(destination_folder, group_folder_name)\n",
    "    os.makedirs(group_folder_path, exist_ok=True)\n",
    "    \n",
    "    # Copy images to the new folder\n",
    "    for image in group_images:\n",
    "        source_image_path = os.path.join(source_folder, image)\n",
    "        destination_image_path = os.path.join(group_folder_path, image)\n",
    "        shutil.copy2(source_image_path, destination_image_path)\n",
    "\n",
    "print(\"Image groups copied successfully.\")\n"
   ]
  }
 ],
 "metadata": {
  "kernelspec": {
   "display_name": "Python 3",
   "language": "python",
   "name": "python3"
  },
  "language_info": {
   "codemirror_mode": {
    "name": "ipython",
    "version": 3
   },
   "file_extension": ".py",
   "mimetype": "text/x-python",
   "name": "python",
   "nbconvert_exporter": "python",
   "pygments_lexer": "ipython3",
   "version": "3.10.4"
  },
  "orig_nbformat": 4
 },
 "nbformat": 4,
 "nbformat_minor": 2
}
