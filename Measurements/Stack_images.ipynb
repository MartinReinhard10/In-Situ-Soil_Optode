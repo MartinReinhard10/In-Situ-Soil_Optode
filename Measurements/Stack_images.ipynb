{
 "cells": [
  {
   "cell_type": "code",
   "execution_count": 1,
   "metadata": {},
   "outputs": [],
   "source": [
    "import numpy as np\n",
    "import os\n",
    "import tifffile\n",
    "from natsort import natsorted\n",
    "import matplotlib.pyplot as plt"
   ]
  },
  {
   "cell_type": "code",
   "execution_count": 2,
   "metadata": {},
   "outputs": [
    {
     "name": "stdout",
     "output_type": "stream",
     "text": [
      "[['RAW_2023-08-18_1_seq_num1.tiff']\n",
      " ['RAW_2023-08-18_2_seq_num1.tiff']\n",
      " ['RAW_2023-08-18_3_seq_num1.tiff']\n",
      " ['RAW_2023-08-18_4_seq_num1.tiff']\n",
      " ['RAW_2023-08-18_5_seq_num1.tiff']\n",
      " ['RAW_2023-08-18_6_seq_num1.tiff']\n",
      " ['RAW_2023-08-18_7_seq_num1.tiff']\n",
      " ['RAW_2023-08-18_8_seq_num1.tiff']]\n"
     ]
    }
   ],
   "source": [
    "# Set the input directory path\n",
    "input_dir = \"D:/Tests/Column_test/\"\n",
    "output_path = \"D:/Tests/Column_test/Stacks/\"\n",
    "\n",
    "# Create the output directory if it doesn't already exist\n",
    "if not os.path.exists(output_path):\n",
    "    os.makedirs(output_path)\n",
    "\n",
    "# Get a list of all TIFF files in the input directory\n",
    "input_files = [f for f in os.listdir(input_dir) if f.endswith('.tiff')]\n",
    "input_files = natsorted(input_files)\n",
    "# Reshape array of input files\n",
    "files_list = np.reshape(input_files, (-1, 1))\n",
    "print(files_list)\n",
    "# Initialize empty lists for the red and green stacks\n",
    "red_stack = []\n",
    "green_stack = []\n",
    "blue_stack = []\n",
    "raw_stack =[]\n",
    "\n",
    "# Loop through each image file in the input directory\n",
    "for file in input_files:\n",
    "    # Load the image using tifffile\n",
    "    img = tifffile.imread(os.path.join(input_dir, file))\n",
    "\n",
    "    ### Set Crop dimension (OPTIONAL) ###\n",
    "    #img = img[0:3000,700:4000]\n",
    "    \n",
    "    # Extract the red and green channels\n",
    "    red_channel = img[1::2, 1::2]\n",
    "    blue_channel = img[0::2, 0::2]\n",
    "    green_channel_1 = img[0::2, 1::2]\n",
    "    green_channel_2 = img[1::2, 0::2]\n",
    "    green_channel = np.add(green_channel_1, green_channel_2) // 2\n",
    "     # Add the red and green channels to the corresponding stacks\n",
    "    blue_stack.append(blue_channel)\n",
    "    red_stack.append(red_channel)\n",
    "    green_stack.append(green_channel)\n",
    "    raw_stack.append(img)\n",
    "\n",
    "# Stack the red and green channel lists along the third axis to create the corresponding stacks\n",
    "red_stack = np.stack(red_stack, axis=0)\n",
    "green_stack = np.stack(green_stack, axis=0)\n",
    "blue_stack =np.stack(blue_stack, axis=0)\n",
    "\n",
    "# Save the red and green stacks to separate TIFF files\n",
    "tifffile.imwrite(os.path.join(output_path, \"stacked_red_channel.tiff\"), red_stack)\n",
    "tifffile.imwrite(os.path.join(output_path, \"stacked_green_channel.tiff\"), green_stack)\n",
    "tifffile.imwrite(os.path.join(output_path, \"stacked_blue_channel.tiff\"), blue_stack)\n",
    "\n",
    "\n"
   ]
  }
 ],
 "metadata": {
  "kernelspec": {
   "display_name": "Python 3",
   "language": "python",
   "name": "python3"
  },
  "language_info": {
   "codemirror_mode": {
    "name": "ipython",
    "version": 3
   },
   "file_extension": ".py",
   "mimetype": "text/x-python",
   "name": "python",
   "nbconvert_exporter": "python",
   "pygments_lexer": "ipython3",
   "version": "3.10.4"
  },
  "orig_nbformat": 4
 },
 "nbformat": 4,
 "nbformat_minor": 2
}
