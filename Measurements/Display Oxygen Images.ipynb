{
 "cells": [
  {
   "cell_type": "code",
   "execution_count": null,
   "metadata": {},
   "outputs": [],
   "source": [
    "import os\n",
    "import tifffile\n",
    "import numpy as np\n",
    "import matplotlib.pyplot as plt\n",
    "import pandas as pd\n",
    "from natsort import natsorted\n",
    "from matplotlib.colors import Normalize"
   ]
  },
  {
   "cell_type": "code",
   "execution_count": null,
   "metadata": {},
   "outputs": [],
   "source": [
    "# Set the path to the directory containing the calibrated images\n",
    "calibrated_img_dir = 'D:/Soil_Images/Sand_Apple/Ratio_Images_Calibrated/'\n",
    "\n",
    "# Get a list of all TIFF files in the calibrated images directory and sort them naturally\n",
    "files = natsorted([f for f in os.listdir(calibrated_img_dir) if f.endswith('.tiff')])\n",
    "\n",
    "\n",
    "# Display the normalized images using matplotlib\n",
    "for i, file in enumerate(files):\n",
    "    normalized_image = tifffile.imread(os.path.join(calibrated_img_dir, file))\n",
    "\n",
    "    # Flip the image by 180 degrees using numpy\n",
    "    flipped_image = np.flipud(np.fliplr(normalized_image))\n",
    "\n",
    "    plt.imshow(flipped_image, cmap='inferno', vmin=0, vmax=100)\n",
    "    plt.title(f\"Calibrated Image {i}\")\n",
    "    plt.colorbar(label='O2 Concentration (%)')\n",
    "    plt.show()\n"
   ]
  }
 ],
 "metadata": {
  "language_info": {
   "name": "python"
  },
  "orig_nbformat": 4
 },
 "nbformat": 4,
 "nbformat_minor": 2
}
