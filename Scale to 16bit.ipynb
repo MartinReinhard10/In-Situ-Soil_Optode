{
 "cells": [
  {
   "cell_type": "code",
   "execution_count": 2,
   "metadata": {},
   "outputs": [
    {
     "name": "stderr",
     "output_type": "stream",
     "text": [
      "C:\\Users\\au519867\\AppData\\Local\\Temp\\ipykernel_19412\\1708702158.py:29: DeprecationWarning: <tifffile.imsave> is deprecated. Use tifffile.imwrite\n",
      "  tifffile.imsave(output_filename, scaled_image, dtype='uint16')\n"
     ]
    },
    {
     "name": "stdout",
     "output_type": "stream",
     "text": [
      "Images scaled to 16-bit and saved to: D:/Tests/Column_test/scaled_16bit_images/\n"
     ]
    }
   ],
   "source": [
    "import os\n",
    "import tifffile\n",
    "import numpy as np\n",
    "from natsort import natsorted\n",
    "\n",
    "# Path to the folder containing the images\n",
    "folder_path = \"D:/Tests/Column_test/\"\n",
    "\n",
    "# Get a list of all image files in the input directory\n",
    "input_files = [f for f in os.listdir(folder_path) if f.endswith('.tiff')]\n",
    "input_files = natsorted(input_files)\n",
    "\n",
    "# Function to scale 12-bit values to 16-bit range\n",
    "def scale_12bit_to_16bit(image):\n",
    "    return (image << 4)  # Left-shift the 12-bit value by 4 bits\n",
    "\n",
    "# Directory to save the scaled 16-bit images\n",
    "output_dir = 'D:/Tests/Column_test/scaled_16bit_images/'\n",
    "os.makedirs(output_dir, exist_ok=True)  # Create the output directory if it doesn't exist\n",
    "\n",
    "for i, file in enumerate(input_files):\n",
    "    image = tifffile.imread(os.path.join(folder_path, file))\n",
    "\n",
    "    # Scale 12-bit values to 16-bit range\n",
    "    scaled_image = scale_12bit_to_16bit(image)\n",
    "\n",
    "    # Save the scaled image as a 16-bit TIFF with a unique filename\n",
    "    output_filename = os.path.join(output_dir, f\"scaled_image_{i}.tiff\")\n",
    "    tifffile.imsave(output_filename, scaled_image, dtype='uint16')\n",
    "\n",
    "print(\"Images scaled to 16-bit and saved to:\", output_dir)\n"
   ]
  },
  {
   "cell_type": "code",
   "execution_count": 9,
   "metadata": {},
   "outputs": [
    {
     "name": "stdout",
     "output_type": "stream",
     "text": [
      "['RAW_2023-08-20_1_seq_num1.tiff', 'RAW_2023-08-20_2_seq_num1.tiff', 'RAW_2023-08-20_3_seq_num1.tiff', 'RAW_2023-08-20_4_seq_num1.tiff', 'RAW_2023-08-20_5_seq_num1.tiff', 'RAW_2023-08-20_6_seq_num1.tiff', 'RAW_2023-08-20_7_seq_num1.tiff', 'RAW_2023-08-20_8_seq_num1.tiff', 'RAW_2023-08-20_9_seq_num1.tiff', 'RAW_2023-08-20_10_seq_num1.tiff', 'RAW_2023-08-20_11_seq_num1.tiff', 'RAW_2023-08-20_12_seq_num1.tiff', 'RAW_2023-08-20_13_seq_num1.tiff', 'RAW_2023-08-20_14_seq_num1.tiff', 'RAW_2023-08-20_15_seq_num1.tiff', 'RAW_2023-08-20_16_seq_num1.tiff', 'RAW_2023-08-20_17_seq_num1.tiff', 'RAW_2023-08-20_18_seq_num1.tiff', 'RAW_2023-08-20_19_seq_num1.tiff', 'RAW_2023-08-20_20_seq_num1.tiff', 'RAW_2023-08-20_21_seq_num1.tiff', 'RAW_2023-08-20_22_seq_num1.tiff', 'RAW_2023-08-20_23_seq_num1.tiff', 'RAW_2023-08-20_24_seq_num1.tiff', 'RAW_2023-08-20_25_seq_num1.tiff', 'RAW_2023-08-20_26_seq_num1.tiff', 'RAW_2023-08-20_27_seq_num1.tiff', 'RAW_2023-08-20_28_seq_num1.tiff', 'RAW_2023-08-20_29_seq_num1.tiff', 'RAW_2023-08-20_30_seq_num1.tiff', 'RAW_2023-08-20_31_seq_num1.tiff', 'RAW_2023-08-20_32_seq_num1.tiff', 'RAW_2023-08-20_33_seq_num1.tiff', 'RAW_2023-08-20_34_seq_num1.tiff', 'RAW_2023-08-20_35_seq_num1.tiff', 'RAW_2023-08-20_36_seq_num1.tiff', 'RAW_2023-08-20_37_seq_num1.tiff', 'RAW_2023-08-20_38_seq_num1.tiff', 'RAW_2023-08-20_39_seq_num1.tiff', 'RAW_2023-08-20_40_seq_num1.tiff', 'RAW_2023-08-20_41_seq_num1.tiff', 'RAW_2023-08-20_42_seq_num1.tiff', 'RAW_2023-08-20_43_seq_num1.tiff', 'RAW_2023-08-20_44_seq_num1.tiff', 'RAW_2023-08-20_45_seq_num1.tiff', 'RAW_2023-08-20_46_seq_num1.tiff', 'RAW_2023-08-20_47_seq_num1.tiff', 'RAW_2023-08-20_48_seq_num1.tiff', 'RAW_2023-08-20_49_seq_num1.tiff', 'RAW_2023-08-20_50_seq_num1.tiff', 'RAW_2023-08-20_51_seq_num1.tiff', 'RAW_2023-08-20_52_seq_num1.tiff', 'RAW_2023-08-20_53_seq_num1.tiff', 'RAW_2023-08-20_54_seq_num1.tiff', 'RAW_2023-08-20_55_seq_num1.tiff', 'RAW_2023-08-20_56_seq_num1.tiff', 'RAW_2023-08-20_57_seq_num1.tiff', 'RAW_2023-08-20_58_seq_num1.tiff', 'RAW_2023-08-20_59_seq_num1.tiff', 'RAW_2023-08-20_60_seq_num1.tiff', 'RAW_2023-08-20_61_seq_num1.tiff', 'RAW_2023-08-20_62_seq_num1.tiff', 'RAW_2023-08-20_63_seq_num1.tiff', 'RAW_2023-08-20_64_seq_num1.tiff', 'RAW_2023-08-20_65_seq_num1.tiff', 'RAW_2023-08-20_66_seq_num1.tiff', 'RAW_2023-08-20_67_seq_num1.tiff', 'RAW_2023-08-20_68_seq_num1.tiff', 'RAW_2023-08-20_69_seq_num1.tiff', 'RAW_2023-08-20_70_seq_num1.tiff', 'RAW_2023-08-20_71_seq_num1.tiff', 'RAW_2023-08-20_72_seq_num1.tiff', 'RAW_2023-08-20_73_seq_num1.tiff', 'RAW_2023-08-20_74_seq_num1.tiff', 'RAW_2023-08-20_75_seq_num1.tiff', 'RAW_2023-08-20_76_seq_num1.tiff', 'RAW_2023-08-20_77_seq_num1.tiff', 'RAW_2023-08-20_78_seq_num1.tiff', 'RAW_2023-08-20_79_seq_num1.tiff', 'RAW_2023-08-20_80_seq_num1.tiff', 'RAW_2023-08-20_81_seq_num1.tiff', 'RAW_2023-08-20_82_seq_num1.tiff', 'RAW_2023-08-20_83_seq_num1.tiff', 'RAW_2023-08-20_84_seq_num1.tiff', 'RAW_2023-08-20_85_seq_num1.tiff', 'RAW_2023-08-20_86_seq_num1.tiff', 'RAW_2023-08-20_87_seq_num1.tiff', 'RAW_2023-08-20_88_seq_num1.tiff', 'RAW_2023-08-20_89_seq_num1.tiff', 'RAW_2023-08-20_90_seq_num1.tiff', 'RAW_2023-08-20_91_seq_num1.tiff', 'RAW_2023-08-20_92_seq_num1.tiff', 'RAW_2023-08-20_93_seq_num1.tiff', 'RAW_2023-08-20_94_seq_num1.tiff', 'RAW_2023-08-20_95_seq_num1.tiff', 'RAW_2023-08-20_96_seq_num1.tiff', 'RAW_2023-08-20_97_seq_num1.tiff', 'RAW_2023-08-20_98_seq_num1.tiff', 'RAW_2023-08-20_99_seq_num1.tiff', 'RAW_2023-08-20_100_seq_num1.tiff', 'RAW_2023-08-20_101_seq_num1.tiff', 'RAW_2023-08-20_102_seq_num1.tiff', 'RAW_2023-08-20_103_seq_num1.tiff', 'RAW_2023-08-20_104_seq_num1.tiff']\n",
      "Images copied successfully.\n"
     ]
    }
   ],
   "source": [
    "import os\n",
    "import shutil\n",
    "from natsort import natsorted\n",
    "\n",
    "# Source and destination folders\n",
    "source_folder = \"D:/RAW_2023-08-20/\"  # Replace with the path to your source folder\n",
    "destination_folder = \"D:/Tests/time_series\"  # Replace with the path to your destination folder\n",
    "\n",
    "# Ensure the destination folder exists, or create it if it doesn't\n",
    "if not os.path.exists(destination_folder):\n",
    "    os.makedirs(destination_folder)\n",
    "\n",
    "# Get a list of all files in the source folder\n",
    "image_files = os.listdir(source_folder)\n",
    "image_files = natsorted(image_files)\n",
    "print(image_files)\n",
    "\n",
    "# Iterate through the image files, copying every 8th image to the destination folder\n",
    "for i in range(0, len(image_files), 8):\n",
    "    if i < len(image_files):\n",
    "        image_file = image_files[i]\n",
    "        source_path = os.path.join(source_folder, image_file)\n",
    "        destination_path = os.path.join(destination_folder, image_file)\n",
    "        shutil.copyfile(source_path, destination_path)\n",
    "\n",
    "\n",
    "print(\"Images copied successfully.\")\n"
   ]
  }
 ],
 "metadata": {
  "kernelspec": {
   "display_name": "Python 3",
   "language": "python",
   "name": "python3"
  },
  "language_info": {
   "codemirror_mode": {
    "name": "ipython",
    "version": 3
   },
   "file_extension": ".py",
   "mimetype": "text/x-python",
   "name": "python",
   "nbconvert_exporter": "python",
   "pygments_lexer": "ipython3",
   "version": "3.10.4"
  },
  "orig_nbformat": 4
 },
 "nbformat": 4,
 "nbformat_minor": 2
}
