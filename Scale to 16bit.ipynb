{
 "cells": [
  {
   "cell_type": "code",
   "execution_count": 2,
   "metadata": {},
   "outputs": [
    {
     "name": "stderr",
     "output_type": "stream",
     "text": [
      "C:\\Users\\au519867\\AppData\\Local\\Temp\\ipykernel_19412\\1708702158.py:29: DeprecationWarning: <tifffile.imsave> is deprecated. Use tifffile.imwrite\n",
      "  tifffile.imsave(output_filename, scaled_image, dtype='uint16')\n"
     ]
    },
    {
     "name": "stdout",
     "output_type": "stream",
     "text": [
      "Images scaled to 16-bit and saved to: D:/Tests/Column_test/scaled_16bit_images/\n"
     ]
    }
   ],
   "source": [
    "import os\n",
    "import tifffile\n",
    "import numpy as np\n",
    "from natsort import natsorted\n",
    "\n",
    "# Path to the folder containing the images\n",
    "folder_path = \"D:/Tests/Column_test/\"\n",
    "\n",
    "# Get a list of all image files in the input directory\n",
    "input_files = [f for f in os.listdir(folder_path) if f.endswith('.tiff')]\n",
    "input_files = natsorted(input_files)\n",
    "\n",
    "# Function to scale 12-bit values to 16-bit range\n",
    "def scale_12bit_to_16bit(image):\n",
    "    return (image << 4)  # Left-shift the 12-bit value by 4 bits\n",
    "\n",
    "# Directory to save the scaled 16-bit images\n",
    "output_dir = 'D:/Tests/Column_test/scaled_16bit_images/'\n",
    "os.makedirs(output_dir, exist_ok=True)  # Create the output directory if it doesn't exist\n",
    "\n",
    "for i, file in enumerate(input_files):\n",
    "    image = tifffile.imread(os.path.join(folder_path, file))\n",
    "\n",
    "    # Scale 12-bit values to 16-bit range\n",
    "    scaled_image = scale_12bit_to_16bit(image)\n",
    "\n",
    "    # Save the scaled image as a 16-bit TIFF with a unique filename\n",
    "    output_filename = os.path.join(output_dir, f\"scaled_image_{i}.tiff\")\n",
    "    tifffile.imsave(output_filename, scaled_image, dtype='uint16')\n",
    "\n",
    "print(\"Images scaled to 16-bit and saved to:\", output_dir)\n"
   ]
  }
 ],
 "metadata": {
  "kernelspec": {
   "display_name": "Python 3",
   "language": "python",
   "name": "python3"
  },
  "language_info": {
   "codemirror_mode": {
    "name": "ipython",
    "version": 3
   },
   "file_extension": ".py",
   "mimetype": "text/x-python",
   "name": "python",
   "nbconvert_exporter": "python",
   "pygments_lexer": "ipython3",
   "version": "3.10.4"
  },
  "orig_nbformat": 4
 },
 "nbformat": 4,
 "nbformat_minor": 2
}
