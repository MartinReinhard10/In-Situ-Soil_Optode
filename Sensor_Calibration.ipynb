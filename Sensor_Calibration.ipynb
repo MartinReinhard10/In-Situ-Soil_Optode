{
 "cells": [
  {
   "cell_type": "code",
   "execution_count": 1,
   "metadata": {},
   "outputs": [],
   "source": [
    "import time\n",
    "import RPi.GPIO as GPIO\n",
    "from time import sleep\n",
    "from picamera2 import Picamera2, Preview\n",
    "from picamera2.controls import Controls\n",
    "import cv2\n",
    "import numpy as np\n",
    "import matplotlib.pyplot as plt\n",
    "import os\n",
    "import tifffile\n",
    "from datetime import datetime\n",
    "import tkinter as tk"
   ]
  },
  {
   "cell_type": "code",
   "execution_count": 2,
   "metadata": {},
   "outputs": [
    {
     "name": "stderr",
     "output_type": "stream",
     "text": [
      "[3:14:43.177051130] [7103] \u001b[1;32m INFO \u001b[1;37mCamera \u001b[1;34mcamera_manager.cpp:299 \u001b[0mlibcamera v0.0.4+22-923f5d70\n",
      "[3:14:43.231443154] [7118] \u001b[1;32m INFO \u001b[1;37mRPI \u001b[1;34mraspberrypi.cpp:1476 \u001b[0mRegistered camera /base/soc/i2c0mux/i2c@1/imx477@1a to Unicam device /dev/media1 and ISP device /dev/media3\n",
      "/tmp/ipykernel_7103/1460731898.py:4: RuntimeWarning: This channel is already in use, continuing anyway.  Use GPIO.setwarnings(False) to disable warnings.\n",
      "  GPIO.setup(led, GPIO.OUT)\n"
     ]
    }
   ],
   "source": [
    "picam2 = Picamera2()\n",
    "led = 23\n",
    "GPIO.setmode(GPIO.BCM)\n",
    "GPIO.setup(led, GPIO.OUT)"
   ]
  },
  {
   "cell_type": "code",
   "execution_count": 3,
   "metadata": {},
   "outputs": [],
   "source": [
    "# Set camera controls\n",
    "controls = {\"ExposureTime\": 4000000, #microseconds\n",
    "            \"AnalogueGain\":1.0, # 1 = ISO 100\n",
    "            \"AeEnable\": False, # Auto exposure and Gain\n",
    "            \"AwbEnable\": False,# Auto white Balance\n",
    "            \"FrameDurationLimits\": (114,239000000)} #Min/Max frame duration\n",
    "\n",
    "# Setup config parameters\n",
    "preview_config = picam2.create_preview_configuration(raw={\"size\": picam2.sensor_resolution, \"format\": \"SBGGR12\",},\n",
    "                                                     controls = controls) "
   ]
  },
  {
   "cell_type": "code",
   "execution_count": 6,
   "metadata": {},
   "outputs": [
    {
     "name": "stderr",
     "output_type": "stream",
     "text": [
      "[3:21:01.006261643] [7103] \u001b[1;32m INFO \u001b[1;37mCamera \u001b[1;34mcamera.cpp:1028 \u001b[0mconfiguring streams: (0) 640x480-XBGR8888 (1) 4056x3040-SBGGR12\n",
      "[3:21:01.023031918] [7118] \u001b[1;32m INFO \u001b[1;37mRPI \u001b[1;34mraspberrypi.cpp:851 \u001b[0mSensor: /base/soc/i2c0mux/i2c@1/imx477@1a - Selected sensor format: 4056x3040-SBGGR12_1X12 - Selected unicam format: 4056x3040-BG12\n"
     ]
    },
    {
     "name": "stdout",
     "output_type": "stream",
     "text": [
      "{'FocusFoM': 3716, 'ExposureTime': 3999942, 'ColourTemperature': 4000, 'SensorTimestamp': 12069718935000, 'ScalerCrop': (2, 0, 4053, 3040), 'SensorBlackLevels': (4096, 4096, 4096, 4096), 'DigitalGain': 1.000014305114746, 'ColourGains': (2.510904550552368, 1.656680941581726), 'SensorTemperature': 23.0, 'Lux': 1.8981562852859497, 'FrameDuration': 4000571, 'AeLocked': True, 'ColourCorrectionMatrix': (2.1575498580932617, -1.1039637327194214, -0.05359601974487305, -0.3457588851451874, 1.6122934818267822, -0.2665446400642395, -0.02813815139234066, -0.7009111046791077, 1.7290493249893188), 'AnalogueGain': 1.0}\n",
      "RAW Image Saved\n"
     ]
    },
    {
     "name": "stderr",
     "output_type": "stream",
     "text": [
      "[3:21:18.028469935] [7103] \u001b[1;32m INFO \u001b[1;37mCamera \u001b[1;34mcamera.cpp:1028 \u001b[0mconfiguring streams: (0) 640x480-XBGR8888 (1) 4056x3040-SBGGR12\n",
      "[3:21:18.045183414] [7118] \u001b[1;32m INFO \u001b[1;37mRPI \u001b[1;34mraspberrypi.cpp:851 \u001b[0mSensor: /base/soc/i2c0mux/i2c@1/imx477@1a - Selected sensor format: 4056x3040-SBGGR12_1X12 - Selected unicam format: 4056x3040-BG12\n"
     ]
    },
    {
     "name": "stdout",
     "output_type": "stream",
     "text": [
      "{'FocusFoM': 3600, 'ExposureTime': 3999942, 'ColourTemperature': 4000, 'SensorTimestamp': 12086720698000, 'ScalerCrop': (2, 0, 4053, 3040), 'SensorBlackLevels': (4096, 4096, 4096, 4096), 'DigitalGain': 1.000014305114746, 'ColourGains': (2.510904550552368, 1.656680941581726), 'SensorTemperature': 23.0, 'Lux': 1.8079651594161987, 'FrameDuration': 4000571, 'AeLocked': True, 'ColourCorrectionMatrix': (2.1575498580932617, -1.1039637327194214, -0.05359601974487305, -0.3457588851451874, 1.6122934818267822, -0.2665446400642395, -0.02813815139234066, -0.7009111046791077, 1.7290493249893188), 'AnalogueGain': 1.0}\n",
      "RAW Image Saved\n"
     ]
    },
    {
     "name": "stderr",
     "output_type": "stream",
     "text": [
      "[3:21:34.711229281] [7103] \u001b[1;32m INFO \u001b[1;37mCamera \u001b[1;34mcamera.cpp:1028 \u001b[0mconfiguring streams: (0) 640x480-XBGR8888 (1) 4056x3040-SBGGR12\n",
      "[3:21:34.727883926] [7118] \u001b[1;32m INFO \u001b[1;37mRPI \u001b[1;34mraspberrypi.cpp:851 \u001b[0mSensor: /base/soc/i2c0mux/i2c@1/imx477@1a - Selected sensor format: 4056x3040-SBGGR12_1X12 - Selected unicam format: 4056x3040-BG12\n"
     ]
    },
    {
     "name": "stdout",
     "output_type": "stream",
     "text": [
      "{'FocusFoM': 3730, 'ExposureTime': 3999942, 'ColourTemperature': 4000, 'SensorTimestamp': 12103422716000, 'ScalerCrop': (2, 0, 4053, 3040), 'SensorBlackLevels': (4096, 4096, 4096, 4096), 'DigitalGain': 1.000014305114746, 'ColourGains': (2.510904550552368, 1.656680941581726), 'SensorTemperature': 23.0, 'Lux': 1.8977383375167847, 'FrameDuration': 4000571, 'AeLocked': True, 'ColourCorrectionMatrix': (2.1575498580932617, -1.1039637327194214, -0.05359601974487305, -0.3457588851451874, 1.6122934818267822, -0.2665446400642395, -0.02813815139234066, -0.7009111046791077, 1.7290493249893188), 'AnalogueGain': 1.0}\n",
      "RAW Image Saved\n"
     ]
    },
    {
     "name": "stderr",
     "output_type": "stream",
     "text": [
      "[3:21:47.422837794] [7103] \u001b[1;32m INFO \u001b[1;37mCamera \u001b[1;34mcamera.cpp:1028 \u001b[0mconfiguring streams: (0) 640x480-XBGR8888 (1) 4056x3040-SBGGR12\n",
      "[3:21:47.439624254] [7118] \u001b[1;32m INFO \u001b[1;37mRPI \u001b[1;34mraspberrypi.cpp:851 \u001b[0mSensor: /base/soc/i2c0mux/i2c@1/imx477@1a - Selected sensor format: 4056x3040-SBGGR12_1X12 - Selected unicam format: 4056x3040-BG12\n"
     ]
    },
    {
     "name": "stdout",
     "output_type": "stream",
     "text": [
      "{'FocusFoM': 3659, 'ExposureTime': 3999942, 'ColourTemperature': 4000, 'SensorTimestamp': 12116156246000, 'ScalerCrop': (2, 0, 4053, 3040), 'SensorBlackLevels': (4096, 4096, 4096, 4096), 'DigitalGain': 1.000014305114746, 'ColourGains': (2.510904550552368, 1.656680941581726), 'SensorTemperature': 24.0, 'Lux': 1.8682752847671509, 'FrameDuration': 4000571, 'AeLocked': True, 'ColourCorrectionMatrix': (2.1575498580932617, -1.1039637327194214, -0.05359601974487305, -0.3457588851451874, 1.6122934818267822, -0.2665446400642395, -0.02813815139234066, -0.7009111046791077, 1.7290493249893188), 'AnalogueGain': 1.0}\n",
      "RAW Image Saved\n"
     ]
    }
   ],
   "source": [
    "def capture_raw(suffix):\n",
    "    picam2.start_preview(Preview.QTGL)\n",
    "    picam2.configure(preview_config)\n",
    "\n",
    "    picam2.start() # Start Camera\n",
    " \n",
    "    time.sleep(2)\n",
    "\n",
    "    GPIO.output(led, GPIO.HIGH) # Turn on LED\n",
    "    time.sleep(1)\n",
    "\n",
    "    #Capture image in unpacked RAW format 12bit dynamic range (16bit array)\n",
    "    raw = picam2.capture_array(\"raw\").view(np.uint16)\n",
    "\n",
    "    time.sleep(1)\n",
    "    GPIO.output(led, GPIO.LOW) # Turn off LED\n",
    "\n",
    "    print(picam2.capture_metadata())\n",
    "\n",
    "    picam2.stop_preview()\n",
    "    picam2.stop()\n",
    "\n",
    "    raw_crop = raw[0:3040, 0:4056] # Remove padding from each row of pixels\n",
    "\n",
    "    base_filename = \"RAW\"\n",
    "    save_dir = '/home/martin/Desktop/Images/'\n",
    "\n",
    "    # Create a new folder with date stamp if it does not exist\n",
    "    date_str = datetime.now().strftime(\"%Y-%m-%d\")\n",
    "    save_dir = os.path.join(save_dir, f'{base_filename}_{date_str}')\n",
    "    if not os.path.exists(save_dir):\n",
    "        os.makedirs(save_dir)\n",
    "\n",
    "    # Construct the filename with the user-defined suffix\n",
    "    #filename = f'{base_filename}_{date_str}_air_sat_{suffix}.tiff'\n",
    "\n",
    "    # Check if the filename with the user-defined suffix already exists in the folder\n",
    "    filename = f'{base_filename}_{date_str}_air_sat{suffix}.tiff'\n",
    "    count = 1\n",
    "    while os.path.exists(os.path.join(save_dir, filename)):\n",
    "        # If the filename exists, add a number to the suffix and try again\n",
    "        filename = f'{base_filename}_{date_str}_air_sat{suffix}_{count}.tiff'\n",
    "        count += 1\n",
    "\n",
    "    # Save the image with the updated filename\n",
    "    tifffile.imwrite(os.path.join(save_dir, filename), raw_crop)\n",
    "    print(\"RAW Image Saved\")\n",
    "\n",
    "#Create a function to get the value of the suffix from the entry field and call the capture_raw function\n",
    "def capture_image():\n",
    "    suffix_value = suffix_entry.get()\n",
    "    capture_raw(suffix_value)\n",
    "\n",
    "# Create the Tkinter window and add the button and entry field\n",
    "window = tk.Tk()\n",
    "window.title(\"Capture RAW Image\")\n",
    "window.geometry(\"300x200\")\n",
    "suffix_label = tk.Label(window, text=\"Enter Suffix Value:\")\n",
    "suffix_label.pack()\n",
    "suffix_entry = tk.Entry(window)\n",
    "suffix_entry.pack()\n",
    "capture_button = tk.Button(window, text=\"Capture Raw Image\", command=capture_image)\n",
    "capture_button.pack()\n",
    "window.mainloop()"
   ]
  },
  {
   "cell_type": "code",
   "execution_count": null,
   "metadata": {},
   "outputs": [],
   "source": [
    "center_crop = raw[1000:2000, 2000:3000]\n",
    "\n",
    "#Get color channels in bayer order (BGGR)\n",
    "red = center_crop[1::2,1::2]\n",
    "green1 = center_crop[0::2,1::2]\n",
    "green2 = center_crop[1::2,0::2]\n",
    "green = np.add(green1,green2)/2\n",
    "\n",
    "#Make histogram for red and green channel # Set camera controls to have good pixel saturation\n",
    "Colors=(\"red\",\"green\")\n",
    "Channel_ids=(red,green)\n",
    "for channel_id, c in zip(Channel_ids,Colors):\n",
    "    histogram, bin_edges=np.histogram(channel_id,bins=4095, range=(0,4095))\n",
    "    plt.plot(bin_edges[0:-1],histogram,color=c)\n",
    "plt.title(\"Red_Green histogram\")\n",
    "plt.xlabel(\"Pixel intensity\")\n",
    "plt.ylabel(\"Pixel Frequency\")\n",
    "plt.show()\n",
    "plt.imshow(raw_crop, cmap=\"gray\")\n"
   ]
  }
 ],
 "metadata": {
  "kernelspec": {
   "display_name": "Python 3",
   "language": "python",
   "name": "python3"
  },
  "language_info": {
   "codemirror_mode": {
    "name": "ipython",
    "version": 3
   },
   "file_extension": ".py",
   "mimetype": "text/x-python",
   "name": "python",
   "nbconvert_exporter": "python",
   "pygments_lexer": "ipython3",
   "version": "3.9.2"
  },
  "orig_nbformat": 4
 },
 "nbformat": 4,
 "nbformat_minor": 2
}
