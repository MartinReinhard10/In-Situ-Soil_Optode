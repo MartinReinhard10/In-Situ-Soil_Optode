{
 "cells": [
  {
   "cell_type": "code",
   "execution_count": null,
   "metadata": {},
   "outputs": [],
   "source": [
    "# load all libraries\n",
    "\n",
    "import os\n",
    "import tifffile\n",
    "import numpy as np\n",
    "import matplotlib.pyplot as plt\n",
    "import pandas as pd\n",
    "from natsort import natsorted\n",
    "from collections import defaultdict\n",
    "import cv2\n",
    "from scipy.stats import linregress\n",
    "from scipy.optimize import curve_fit\n",
    "from sklearn.linear_model import LinearRegression\n",
    "from sklearn.preprocessing import PolynomialFeatures\n",
    "from sklearn.pipeline import make_pipeline"
   ]
  },
  {
   "cell_type": "markdown",
   "metadata": {},
   "source": [
    "# Part 2: Get Stern-Volmer parameters for the calibrated optode\n",
    "\n",
    "- Load calibration data from excel\n",
    "- Choose the ratio data to use for calibration (RAW, 2nd degree smoothed or 3rd degree smoothed)\n",
    "- Get column-by-column S-V parameters for all images\n",
    "---"
   ]
  },
  {
   "cell_type": "code",
   "execution_count": null,
   "metadata": {},
   "outputs": [],
   "source": [
    "# Set the location of the images.\n",
    "Drive =\"C:/\"\n",
    "Folder = \"YOUR FOLDER\"\n",
    "Mearsurements = \"YOUR SUB-FOLDER\""
   ]
  },
  {
   "cell_type": "markdown",
   "metadata": {},
   "source": [
    "- Load calibration data from excel"
   ]
  },
  {
   "cell_type": "code",
   "execution_count": null,
   "metadata": {},
   "outputs": [],
   "source": [
    "#  Laod excel data file and Set Oxygen value to Float\n",
    "excel_file_path = f'{Drive}/{Folder}/{Mearsurements}/RAW_Calibration_data.xlsx'\n",
    "\n",
    "data = pd.read_excel(excel_file_path)\n",
    "data[\"Oxygen%\"] = data[\"Oxygen%\"].astype(float)\n",
    "print(data.dtypes)\n"
   ]
  },
  {
   "cell_type": "markdown",
   "metadata": {},
   "source": [
    "- Optionally create column groups to obtain average data for more columns."
   ]
  },
  {
   "cell_type": "code",
   "execution_count": null,
   "metadata": {},
   "outputs": [],
   "source": [
    "# Create a group key based on the Column Index divided into groups of 20\n",
    "data['Group Index'] = data['Column Index'] // 30\n",
    "\n",
    "# Group by Temp, Oxygen%, and the new Group Index to compute the mean for the ratio columns\n",
    "grouped_data = data.groupby(['Temp', 'Oxygen%', 'Group Index'])[['Original Ratio', '2nd Degree Smoothed Ratio', '3rd Degree Smoothed Ratio', 'Linear Smoothed Ratio']].mean().reset_index()\n",
    "\n",
    "# Display the first few rows of the grouped data\n",
    "grouped_data"
   ]
  },
  {
   "cell_type": "markdown",
   "metadata": {},
   "source": [
    "- Get R0 values for all colums or column groups."
   ]
  },
  {
   "cell_type": "code",
   "execution_count": null,
   "metadata": {},
   "outputs": [],
   "source": [
    "# Step 1: Create a dictionary for R0 values\n",
    "# Adjust R0_dict to account for both Column Index and Temp\n",
    "R0_dict = grouped_data[grouped_data['Oxygen%'] == 0].set_index(['Group Index', 'Temp'])['Linear Smoothed Ratio'].to_dict()\n",
    "\n",
    "grouped_data['Normalized Predicted Ratio'] = grouped_data.apply(\n",
    "    lambda row: R0_dict[(row['Group Index'], row['Temp'])] / row['Linear Smoothed Ratio'] if (row['Group Index'], row['Temp']) in R0_dict else np.nan,\n",
    "    axis=1)\n",
    "\n",
    "grouped_data"
   ]
  },
  {
   "cell_type": "markdown",
   "metadata": {},
   "source": [
    "- Apply modified Stern-Volmer equation to model and predict fitting parameters Ksv and f for all columns (or groups) at all temperatures.\n",
    "- Save parameters in a dataframe"
   ]
  },
  {
   "cell_type": "code",
   "execution_count": null,
   "metadata": {},
   "outputs": [],
   "source": [
    "data = grouped_data  # Use your DataFrame here\n",
    "\n",
    "# Define the modified Stern-Volmer equation\n",
    "def modified_stern_volmer(x, k, f):\n",
    "    return 1 / (f / (1 + k * x) + (1 - f))\n",
    "\n",
    "initial_params = {'k': 0.165, 'f': 0.887}  # Initial parameter estimates\n",
    "\n",
    "# Initialize a DataFrame to store parameters for each column index and temperature\n",
    "all_params_df = pd.DataFrame()\n",
    "\n",
    "# Function for prediction using the fitted polynomial models\n",
    "def predict_intensity_ratio(temp, oxygen, model_k, model_f):\n",
    "    k_temp = model_k.predict([[temp]])[0]\n",
    "    f_temp = model_f.predict([[temp]])[0]\n",
    "    return 1 / (f_temp / (1 + k_temp * oxygen) + (1 - f_temp))\n",
    "# Function for visualization\n",
    "def visualize_predictions_normalized(column_index, temperatures, oxygen_range, model_k, model_f, normalized_data):\n",
    "    plt.figure(figsize=(12, 8))\n",
    "    colors = plt.cm.viridis(np.linspace(0, 1, len(temperatures)))\n",
    "    markers = ['o', 's', '^', 'd', 'x', 'p', '*']\n",
    "\n",
    "    # Plot predicted data\n",
    "    for temp, color in zip(temperatures, colors):\n",
    "        predicted_ratios = [predict_intensity_ratio(temp, o2, model_k, model_f) for o2 in oxygen_range]\n",
    "        plt.plot(oxygen_range, predicted_ratios, label=f'Predicted {temp}°C', color=color)\n",
    "\n",
    "    # Plot actual data\n",
    "    for temp, color, marker in zip(normalized_data['Temp'].unique(), colors, markers):\n",
    "        temp_data = normalized_data[normalized_data['Temp'] == temp]\n",
    "        plt.scatter(temp_data['Oxygen%'], temp_data['Normalized Predicted Ratio'], marker=marker, color=color, label=f'Actual {temp}°C')\n",
    "\n",
    "    plt.xlabel('Air Saturation (%))')\n",
    "    plt.ylabel('Normalized Predicted Ratio')\n",
    "    plt.title(f'Column Index {column_index}: Model Predictions vs Actual Data')\n",
    "    plt.legend()\n",
    "    plt.grid(True)\n",
    "    plt.savefig(f\"Column_{column_index}_predictions_vs_actual.png\", dpi=300)\n",
    "    plt.show()\n",
    "\n",
    "# Process each column index to compute parameters\n",
    "for col_index in data['Group Index'].unique():\n",
    "    column_data = data[data['Group Index'] == col_index]\n",
    "\n",
    "    # DataFrame to hold parameters for the current column index\n",
    "    parameters_df = pd.DataFrame()\n",
    "\n",
    "    for temp in column_data['Temp'].unique():\n",
    "        temp_data = column_data[column_data['Temp'] == temp]\n",
    "        try:\n",
    "            popt, _ = curve_fit(modified_stern_volmer, temp_data['Oxygen%'], temp_data['Normalized Predicted Ratio'], p0=[initial_params['k'], initial_params['f']], bounds=([0, 0], [np.inf, 1]), maxfev=10000)\n",
    "            parameters_df = parameters_df.append({\n",
    "                'Group Index': col_index,\n",
    "                'Temp': temp,\n",
    "                'k': popt[0],\n",
    "                'f': popt[1]\n",
    "            }, ignore_index=True)\n",
    "        except RuntimeError as e:\n",
    "            print(f\"Failed to fit model for Column Index {col_index}, Temp {temp}: {str(e)}\")\n",
    "\n",
    "    # Append parameters for the current column to the master DataFrame\n",
    "    all_params_df = pd.concat([all_params_df, parameters_df], ignore_index=True)\n",
    "\n",
    "# Print or save the complete parameters DataFrame\n",
    "print(all_params_df)\n",
    "# all_params_df.to_csv('model_parameters.csv', index=False)  # Optionally save to CSV\n"
   ]
  },
  {
   "cell_type": "markdown",
   "metadata": {},
   "source": [
    "- Display Stern-Volmer fit for all temperatures at two selcted column indicies "
   ]
  },
  {
   "cell_type": "code",
   "execution_count": null,
   "metadata": {},
   "outputs": [],
   "source": [
    "# Specify the columns you want to plot\n",
    "columns_to_plot = [0, 60]  # Update this list with your desired column indices\n",
    "\n",
    "# visualize selected column indices\n",
    "for col_index in columns_to_plot:\n",
    "    if col_index in data['Group Index'].unique():\n",
    "        column_data = data[data['Group Index'] == col_index]\n",
    "        parameters_df = all_params_df[all_params_df['Group Index'] == col_index]\n",
    "\n",
    "        # Fit polynomial models for visualization\n",
    "        model_k = make_pipeline(PolynomialFeatures(degree=2), LinearRegression())\n",
    "        model_k.fit(parameters_df[['Temp']], parameters_df['k'])\n",
    "\n",
    "        model_f = make_pipeline(PolynomialFeatures(degree=2), LinearRegression())\n",
    "        model_f.fit(parameters_df[['Temp']], parameters_df['f'])\n",
    "\n",
    "        # Visualization for selected columns\n",
    "        example_temperatures = column_data['Temp'].unique()\n",
    "        oxygen_range_example = np.linspace(0, 100, 10)  # Define a range of oxygen concentrations\n",
    "        visualize_predictions_normalized(col_index, example_temperatures, oxygen_range_example, model_k, model_f, column_data)\n",
    "    else:\n",
    "        print(f\"Column Index {col_index} not found in the dataset.\")"
   ]
  },
  {
   "cell_type": "markdown",
   "metadata": {},
   "source": [
    "- Add the R0 value to the parameters dataframe and save dataframe to excel file."
   ]
  },
  {
   "cell_type": "code",
   "execution_count": null,
   "metadata": {},
   "outputs": [],
   "source": [
    "# Function to fetch R0 values using both Column Index and Temp\n",
    "def get_R0(row):\n",
    "    key = (row['Group Index'], row['Temp'])\n",
    "    return R0_dict.get(key, np.nan)  # Returns np.nan if the key is not found\n",
    "\n",
    "# Apply the function to each row in fit_results_df to create the R0 column\n",
    "all_params_df['R0'] = all_params_df.apply(get_R0, axis=1)\n",
    "\n",
    "all_params_df.to_excel(f'{Drive}/{Folder}/{Mearsurements}/SV_Calibration_Parameters.xlsx', index=False)\n",
    "\n",
    "all_params_df\n"
   ]
  },
  {
   "cell_type": "markdown",
   "metadata": {},
   "source": [
    "---"
   ]
  }
 ],
 "metadata": {
  "language_info": {
   "name": "python"
  }
 },
 "nbformat": 4,
 "nbformat_minor": 2
}
