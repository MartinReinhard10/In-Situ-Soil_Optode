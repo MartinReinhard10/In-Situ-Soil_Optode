{
 "cells": [
  {
   "cell_type": "code",
   "execution_count": 1,
   "metadata": {},
   "outputs": [],
   "source": [
    "import RPi.GPIO as GPIO\n",
    "import time\n",
    "\n",
    "import tkinter as tk\n",
    "import time\n",
    "import numpy as np\n",
    "from picamera2 import Picamera2, Preview\n",
    "from picamera2.controls import Controls\n",
    "from libcamera import Transform\n"
   ]
  },
  {
   "cell_type": "code",
   "execution_count": 10,
   "metadata": {},
   "outputs": [],
   "source": [
    "GPIO.setmode(GPIO.BCM)\n",
    "GPIO.setwarnings(False)\n",
    "GPIO.setup(25,GPIO.OUT)\n",
    "GPIO.output(25, GPIO.HIGH)\n"
   ]
  },
  {
   "cell_type": "code",
   "execution_count": 8,
   "metadata": {},
   "outputs": [],
   "source": [
    "GPIO.output(25,GPIO.LOW)"
   ]
  },
  {
   "cell_type": "code",
   "execution_count": 9,
   "metadata": {},
   "outputs": [
    {
     "name": "stderr",
     "output_type": "stream",
     "text": [
      "[0:14:33.387438200] [2206] \u001b[1;32m INFO \u001b[1;37mCamera \u001b[1;34mcamera_manager.cpp:299 \u001b[0mlibcamera v0.0.4+22-923f5d70\n",
      "[0:14:33.451534515] [2281] \u001b[1;32m INFO \u001b[1;37mRPI \u001b[1;34mraspberrypi.cpp:1476 \u001b[0mRegistered camera /base/soc/i2c0mux/i2c@1/imx477@1a to Unicam device /dev/media4 and ISP device /dev/media2\n",
      "[0:14:33.885921403] [2206] \u001b[1;32m INFO \u001b[1;37mCamera \u001b[1;34mcamera.cpp:1028 \u001b[0mconfiguring streams: (0) 640x480-XBGR8888\n",
      "[0:14:33.887521125] [2281] \u001b[1;32m INFO \u001b[1;37mRPI \u001b[1;34mraspberrypi.cpp:851 \u001b[0mSensor: /base/soc/i2c0mux/i2c@1/imx477@1a - Selected sensor format: 2028x1520-SBGGR12_1X12 - Selected unicam format: 2028x1520-pBCC\n"
     ]
    },
    {
     "ename": "KeyboardInterrupt",
     "evalue": "",
     "output_type": "error",
     "traceback": [
      "\u001b[0;31m---------------------------------------------------------------------------\u001b[0m",
      "\u001b[0;31mKeyboardInterrupt\u001b[0m                         Traceback (most recent call last)",
      "Cell \u001b[0;32mIn[9], line 86\u001b[0m\n\u001b[1;32m     84\u001b[0m root \u001b[39m=\u001b[39m tk\u001b[39m.\u001b[39mTk()\n\u001b[1;32m     85\u001b[0m app \u001b[39m=\u001b[39m CameraGUI(master\u001b[39m=\u001b[39mroot)\n\u001b[0;32m---> 86\u001b[0m app\u001b[39m.\u001b[39;49mmainloop()\n",
      "File \u001b[0;32m/usr/lib/python3.9/tkinter/__init__.py:1429\u001b[0m, in \u001b[0;36mMisc.mainloop\u001b[0;34m(self, n)\u001b[0m\n\u001b[1;32m   1427\u001b[0m \u001b[39mdef\u001b[39;00m \u001b[39mmainloop\u001b[39m(\u001b[39mself\u001b[39m, n\u001b[39m=\u001b[39m\u001b[39m0\u001b[39m):\n\u001b[1;32m   1428\u001b[0m     \u001b[39m\"\"\"Call the mainloop of Tk.\"\"\"\u001b[39;00m\n\u001b[0;32m-> 1429\u001b[0m     \u001b[39mself\u001b[39;49m\u001b[39m.\u001b[39;49mtk\u001b[39m.\u001b[39;49mmainloop(n)\n",
      "\u001b[0;31mKeyboardInterrupt\u001b[0m: "
     ]
    }
   ],
   "source": [
    "class CameraGUI(tk.Frame):\n",
    "    def __init__(self, master=None):\n",
    "        super().__init__(master)\n",
    "        self.master = master\n",
    "        self.pack()\n",
    "        self.create_widgets()\n",
    "        self.picam2 = None\n",
    "\n",
    "    def create_widgets(self):\n",
    "        # ExposureTime label and input box\n",
    "        self.exposure_label = tk.Label(self, text=\"Exposure Time (us): \")\n",
    "        self.exposure_label.pack(side=\"top\")\n",
    "        self.exposure_input = tk.Entry(self)\n",
    "        self.exposure_input.pack(side=\"top\")\n",
    "\n",
    "        # AnalogueGain label and input box\n",
    "        self.gain_label = tk.Label(self, text=\"Analogue Gain: \")\n",
    "        self.gain_label.pack(side=\"top\")\n",
    "        self.gain_input = tk.Entry(self)\n",
    "        self.gain_input.pack(side=\"top\")\n",
    "\n",
    "        # Button to take an image\n",
    "        self.capture_button = tk.Button(self, text=\"Capture\", command=self.capture_image)\n",
    "        self.capture_button.pack(side=\"top\")\n",
    "\n",
    "        # Button to start the camera preview\n",
    "        self.preview_button = tk.Button(self, text=\"Preview\", command=self.start_preview)\n",
    "        self.preview_button.pack(side=\"top\")\n",
    "\n",
    "        # Button to stop the camera preview\n",
    "        self.stop_preview_button = tk.Button(self, text=\"Stop Preview\", command=self.stop_preview)\n",
    "        self.stop_preview_button.pack(side=\"top\")\n",
    "\n",
    "        # Button to exit the program\n",
    "        self.quit_button = tk.Button(self, text=\"Quit\", command=self.quit)\n",
    "        self.quit_button.pack(side=\"bottom\")\n",
    "\n",
    "    def start_preview(self):\n",
    "        # Create the Picamera2 instance and start the preview\n",
    "        self.picam2 = Picamera2()\n",
    "        self.picam2.start_preview(Preview.QTGL, transform=Transform(hflip=1, vflip=1))\n",
    "        self.picam2.start()\n",
    "\n",
    "    def stop_preview(self):\n",
    "        # Stop the camera preview\n",
    "        self.picam2.stop_preview()\n",
    "        self.picam2.close()\n",
    "\n",
    "    def capture_image(self):\n",
    "        # Get the exposure time and analogue gain from the input boxes\n",
    "        exposure_time = int(self.exposure_input.get())\n",
    "        gain = float(self.gain_input.get())\n",
    "\n",
    "        # Set camera controls\n",
    "        controls = {\"ExposureTime\": exposure_time,  # microseconds\n",
    "                    \"AnalogueGain\": gain,  # 1 = ISO 100\n",
    "                    \"AeEnable\": False,  # Auto exposure and Gain\n",
    "                    \"AwbEnable\": False,  # Auto white Balance\n",
    "                    \"FrameDurationLimits\": (114, 239000000)}  # Min/Max frame duration\n",
    "\n",
    "        # Setup config parameters\n",
    "        preview_config = self.picam2.create_preview_configuration(raw={\"size\": self.picam2.sensor_resolution, \"format\": \"SBGGR12\", },\n",
    "                                                         controls=controls)\n",
    "        self.picam2.configure(preview_config)\n",
    "        \n",
    "        picam2.start() # Start Camera\n",
    " \n",
    "        time.sleep(3)\n",
    "\n",
    "        # Capture image in unpacked RAW format 12bit dynamic range (16bit dataframe)\n",
    "        raw = self.picam2.capture_array(\"raw\").view(np.uint16)\n",
    "\n",
    "        print(self.picam2.stream_configuration(\"raw\"))\n",
    "        print(self.picam2.capture_metadata())\n",
    "\n",
    "    def quit(self):\n",
    "        # Stop the camera preview and exit the program\n",
    "        if self.picam2 is not None:\n",
    "            self.picam2.stop_preview()\n",
    "            self.picam2.close()\n",
    "        self.master.destroy()\n",
    "\n",
    "# Create the GUI window\n",
    "root = tk.Tk()\n",
    "app = CameraGUI(master=root)\n",
    "app.mainloop()\n"
   ]
  }
 ],
 "metadata": {
  "kernelspec": {
   "display_name": "Python 3",
   "language": "python",
   "name": "python3"
  },
  "language_info": {
   "codemirror_mode": {
    "name": "ipython",
    "version": 3
   },
   "file_extension": ".py",
   "mimetype": "text/x-python",
   "name": "python",
   "nbconvert_exporter": "python",
   "pygments_lexer": "ipython3",
   "version": "3.9.2"
  },
  "orig_nbformat": 4
 },
 "nbformat": 4,
 "nbformat_minor": 2
}
