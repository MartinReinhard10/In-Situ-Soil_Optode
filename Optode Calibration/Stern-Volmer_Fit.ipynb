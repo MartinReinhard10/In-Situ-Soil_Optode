{
 "cells": [
  {
   "cell_type": "code",
   "execution_count": null,
   "metadata": {},
   "outputs": [],
   "source": [
    "import matplotlib.pyplot as plt\n",
    "import numpy as np\n",
    "import pandas as pd\n",
    "from lmfit import Model\n",
    "import datetime\n"
   ]
  },
  {
   "cell_type": "code",
   "execution_count": null,
   "metadata": {},
   "outputs": [],
   "source": [
    "# load data\n",
    "file = 'C:/Users/au519867/OneDrive - Aarhus universitet/Skrivebord/Raw_Images/RAW_Stacks/Intensity_Ratio/ratio_data.csv'\n",
    "data = pd.read_csv(file, decimal=',')\n",
    "print(data)\n"
   ]
  },
  {
   "cell_type": "code",
   "execution_count": null,
   "metadata": {},
   "outputs": [],
   "source": [
    "# Group the data by Air Saturation and calculate the mean ratio for each air saturation value\n",
    "grouped_data = data.groupby('Air Saturation').mean().round(4)\n",
    "print(grouped_data)\n",
    "\n",
    "# Get the R0 value: Intensity Ratio at Air Saturation = 0%\n",
    "R0 = data.iloc[0, 1]\n",
    "print('this is R0',R0)\n",
    "\n",
    "# Normalize the data by R0/R\n",
    "grouped_data['Intensity Ratio'] = grouped_data['Intensity Ratio'] / R0 \n",
    "print(grouped_data)\n"
   ]
  },
  {
   "cell_type": "code",
   "execution_count": null,
   "metadata": {},
   "outputs": [],
   "source": [
    "# Create a plot\n",
    "plt.plot(grouped_data.index, grouped_data['Intensity Ratio'], 'o-')\n",
    "\n",
    "# Set the x-axis and y-axis labels\n",
    "plt.title('Stern-Volmer Fit')\n",
    "plt.xlabel('Air Saturation %')\n",
    "plt.ylabel('Intensity Ratio')\n",
    "plt.show()"
   ]
  },
  {
   "cell_type": "code",
   "execution_count": null,
   "metadata": {},
   "outputs": [],
   "source": [
    "# define simplified Stern-Volmer function\n",
    "def _sternvolmer_simple(x, f, k):\n",
    "    \"\"\"\n",
    "    fitting function according to the common two site model. In general, x represents the pO2 or pCO2 content, whereas\n",
    "    m, k and f are the common fitting parameters\n",
    "    :param x:   list\n",
    "    :param k:   np.float\n",
    "    :param f:   np.float\n",
    "    :return:\n",
    "    \"\"\"\n",
    "    # R0/R\n",
    "    int_ratio = 1 / (f / (1. + k*x) + (1.-f))\n",
    "    return int_ratio\n",
    "\n",
    "# make your function a model to be used by lmfit\n",
    "simple_sv = Model(_sternvolmer_simple)"
   ]
  },
  {
   "cell_type": "code",
   "execution_count": null,
   "metadata": {},
   "outputs": [],
   "source": [
    "# set initial parameter\n",
    "params_sens = simple_sv.make_params(k=0.165, f=0.887) # from previous calibrations approximately known\n",
    "params_sens['k'].min = 0.\n",
    "params_sens['f'].max = 1.\n",
    "\n",
    "# use R0/R data for fit and re-calculate i afterwards\n",
    "# full concentration range\n",
    "ytofit_sens = grouped_data['Intensity Ratio'].to_numpy()\n",
    "xtofit_sens = grouped_data.index.to_numpy() \n",
    "result = simple_sv.fit(ytofit_sens, params_sens, x=xtofit_sens, nan_policy='omit')"
   ]
  },
  {
   "cell_type": "code",
   "execution_count": null,
   "metadata": {},
   "outputs": [],
   "source": [
    "# to optimize the fit (and be sure of the parameter) >> 2nd round with one parameter fixed\n",
    "params_sens2 = params_sens.copy()\n",
    "params_sens2['k'].value = result.best_values['k']\n",
    "params_sens2['k'].vary = False\n",
    "params_sens2['f'].value = result.best_values['f']\n",
    "\n",
    "params_sens2['f'].min = 0.\n",
    "params_sens2['f'].max = 1.\n",
    "result2 = simple_sv.fit(ytofit_sens, params_sens2, x=xtofit_sens, nan_policy='omit')\n",
    "\n",
    "df_bestFit_preSens_norm = pd.DataFrame(1 / result2.best_fit, index=xtofit_sens)\n",
    "df_bestFit_preSens = pd.DataFrame(grouped_data.loc[0, 'Intensity Ratio'] / result2.best_fit, index=xtofit_sens)\n",
    "result2.best_values\n",
    "fit_report = result2.fit_report()\n",
    "print(fit_report)\n",
    "result2.plot()\n",
    "plt.show()\n",
    "\n"
   ]
  },
  {
   "cell_type": "code",
   "execution_count": null,
   "metadata": {},
   "outputs": [],
   "source": [
    "# SAVE THE RESULT\n",
    "# best fit for parameter done... save report\n",
    "import datetime\n",
    "\n",
    "now = datetime.datetime.now()\n",
    "time_now = now.strftime('%Y%m%d-%H%M%S')\n",
    "\n",
    "# save fit report to a file\n",
    "with open('C:/Users/au519867/OneDrive - Aarhus universitet/Skrivebord/Raw_Images/RAW_Stacks/Intensity_Ratio/' + time_now + '_fit_result.txt', 'w') as fh:\n",
    "    fh.write(fit_report)\n"
   ]
  }
 ],
 "metadata": {
  "kernelspec": {
   "display_name": "Python 3",
   "language": "python",
   "name": "python3"
  },
  "language_info": {
   "codemirror_mode": {
    "name": "ipython",
    "version": 3
   },
   "file_extension": ".py",
   "mimetype": "text/x-python",
   "name": "python",
   "nbconvert_exporter": "python",
   "pygments_lexer": "ipython3",
   "version": "3.10.4"
  },
  "orig_nbformat": 4
 },
 "nbformat": 4,
 "nbformat_minor": 2
}
