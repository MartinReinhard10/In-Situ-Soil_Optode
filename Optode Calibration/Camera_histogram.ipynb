{
 "cells": [
  {
   "cell_type": "code",
   "execution_count": null,
   "metadata": {},
   "outputs": [],
   "source": [
    "import time\n",
    "from picamera2 import Picamera2, Preview\n",
    "from picamera2.controls import Controls\n",
    "import cv2\n",
    "import numpy as np\n",
    "import matplotlib.pyplot as plt\n",
    "import RPi.GPIO as GPIO\n",
    "from time import sleep\n",
    "import tifffile"
   ]
  },
  {
   "cell_type": "code",
   "execution_count": null,
   "metadata": {},
   "outputs": [],
   "source": [
    "led = 23\n",
    "GPIO.setmode(GPIO.BCM)\n",
    "GPIO.setup(led, GPIO.OUT)\n",
    "\n",
    "picam2 = Picamera2()\n",
    "\n",
    "# Set camera controls\n",
    "controls = {\"ExposureTime\": 1500000, #microseconds\n",
    "            \"AnalogueGain\":1.0, # 1 = ISO 100\n",
    "            \"AeEnable\": False, # Auto exposure and Gain\n",
    "            \"AwbEnable\": False,# Auto white Balance\n",
    "            \"FrameDurationLimits\": (114,239000000)} #Min/Max frame duration\n",
    "# Setup config parameters\n",
    "preview_config = picam2.create_preview_configuration(raw={\"size\": picam2.sensor_resolution, \"format\": \"SBGGR12\",},\n",
    "                                                     controls = controls) \n",
    "print(preview_config)"
   ]
  },
  {
   "cell_type": "code",
   "execution_count": null,
   "metadata": {},
   "outputs": [],
   "source": [
    "\n",
    "picam2.start_preview(Preview.QTGL)\n",
    "picam2.configure(preview_config)\n",
    "\n",
    "GPIO.output(led, GPIO.HIGH) # Turn on LED\n",
    "\n",
    "picam2.start() # Start Camera\n",
    " \n",
    "time.sleep(2)\n",
    "\n",
    "#Capture image in unpacked RAW format 12bit dynamic range (16bit array)\n",
    "raw = picam2.capture_array(\"raw\").view(np.uint16)\n",
    "\n",
    "GPIO.output(led, GPIO.LOW) # Turn off LED\n",
    "\n",
    "#print(picam2.stream_configuration(\"raw\"))\n",
    "print(picam2.capture_metadata())\n",
    "\n",
    "picam2.stop_preview()\n",
    "picam2.stop()\n",
    "\n",
    "#plt.imshow(raw, cmap=\"gray\")"
   ]
  },
  {
   "cell_type": "code",
   "execution_count": null,
   "metadata": {},
   "outputs": [],
   "source": [
    "center_crop = raw[1000:2000, 2000:3000]\n",
    "\n",
    "#Get color channels in bayer order (BGGR)\n",
    "red = center_crop[1::2,1::2]\n",
    "green1 = center_crop[0::2,1::2]\n",
    "green2 = center_crop[1::2,0::2]\n",
    "green = np.add(green1,green2)/2\n",
    "\n",
    "#Make histogram for red and green channel # Set camera controls to have good pixel saturation\n",
    "Colors=(\"red\",\"green\")\n",
    "Channel_ids=(red,green)\n",
    "for channel_id, c in zip(Channel_ids,Colors):\n",
    "    histogram, bin_edges=np.histogram(channel_id,bins=4095, range=(0,4095))\n",
    "    plt.plot(bin_edges[0:-1],histogram,color=c)\n",
    "plt.title(\"Red_Green histogram\")\n",
    "plt.xlabel(\"Pixel intensity\")\n",
    "plt.ylabel(\"Pixel Frequency\")\n",
    "plt.show()\n",
    "print(\"Histogram Succes\")\n",
    "\n",
    "print(np.mean(red))\n",
    "print(np.mean(green))\n"
   ]
  }
 ],
 "metadata": {
  "kernelspec": {
   "display_name": "Python 3",
   "language": "python",
   "name": "python3"
  },
  "language_info": {
   "codemirror_mode": {
    "name": "ipython",
    "version": 3
   },
   "file_extension": ".py",
   "mimetype": "text/x-python",
   "name": "python",
   "nbconvert_exporter": "python",
   "pygments_lexer": "ipython3",
   "version": "3.9.2"
  },
  "orig_nbformat": 4
 },
 "nbformat": 4,
 "nbformat_minor": 2
}
