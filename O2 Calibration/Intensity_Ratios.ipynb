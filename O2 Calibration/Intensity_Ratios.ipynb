{
 "cells": [
  {
   "cell_type": "code",
   "execution_count": 1,
   "metadata": {},
   "outputs": [],
   "source": [
    "import os\n",
    "import tifffile\n",
    "import numpy as np\n",
    "import matplotlib.pyplot as plt\n",
    "import pandas as pd\n",
    "from natsort import natsorted"
   ]
  },
  {
   "cell_type": "code",
   "execution_count": 2,
   "metadata": {},
   "outputs": [
    {
     "name": "stdout",
     "output_type": "stream",
     "text": [
      "['stacked_blue_channel.tiff', 'stacked_green_channel.tiff', 'stacked_red_channel.tiff']\n",
      "Equal stacks\n",
      "stack= 36\n"
     ]
    }
   ],
   "source": [
    "# Set the path to the directory containing the image stacks\n",
    "stack_dir = 'D:/O2_Calibration_Images/RAW_2023-08-11/Stacks/'\n",
    "\n",
    "# Get a list of all TIFF files in the input directory\n",
    "files = [f for f in os.listdir(stack_dir) if f.endswith('.tiff')]\n",
    "print(files)\n",
    "\n",
    "green_stack = tifffile.imread(os.path.join(stack_dir, files[1]))\n",
    "red_stack = tifffile.imread(os.path.join(stack_dir, files[2]))\n",
    "blue_stack = tifffile.imread(os.path.join(stack_dir, files[0]))\n",
    "\n",
    "#Get length of image stacks\n",
    "num_images_green = len(green_stack)\n",
    "num_images_red = len(red_stack)\n",
    "num_images_blue = len(blue_stack)\n",
    "if num_images_green == num_images_red and num_images_blue:\n",
    "    print(\"Equal stacks\")    \n",
    "else:\n",
    "    print(\"unequal stacks\")\n",
    "\n",
    "num_images = num_images_green\n",
    "print(\"stack=\",num_images)"
   ]
  },
  {
   "cell_type": "code",
   "execution_count": 3,
   "metadata": {},
   "outputs": [],
   "source": [
    "#Loop through all red/blue pairs of images in the stacks an get the RED/BLUE intensity ratio\n",
    "mean_red_intensity =[]\n",
    "mean_green_intensity = []\n",
    "mean_blue_intensity = []\n",
    "std_red_intensity = []\n",
    "std_green_intensity = []\n",
    "std_blue_intensity =[]\n",
    "red_blue_ratio = []\n",
    "mean_red_blue_ratio =[]\n",
    "red_blue_std = []\n",
    "\n",
    "for i in range(num_images):\n",
    "\n",
    "    mean_red_intensity.append(np.mean(red_stack[i]))\n",
    "    mean_green_intensity.append(np.mean(green_stack[i]))\n",
    "    mean_blue_intensity.append(np.mean(blue_stack[i]))\n",
    "    std_red_intensity.append(np.std(red_stack[i]))\n",
    "    std_green_intensity.append(np.std(green_stack[i]))\n",
    "    std_blue_intensity.append(np.std(blue_stack[i]))\n",
    "\n",
    "    # Calculate the intensity ratio between the two images\n",
    "    ratio = red_stack[i] / green_stack[i]\n",
    "    mean_red_blue_ratio.append(np.mean(ratio))\n",
    "    red_blue_ratio.append(ratio)\n",
    "    red_blue_std.append(np.std(ratio))\n"
   ]
  },
  {
   "cell_type": "code",
   "execution_count": null,
   "metadata": {},
   "outputs": [],
   "source": [
    "#Define number of sections for each image to calculate mean ratios\n",
    "num_sections = 3\n",
    "\n",
    "# Calculate the height of each section\n",
    "section_height = red_stack.shape[1] // num_sections\n",
    "\n",
    "# Loop over eack image in the ratio stack and divide it into sections\n",
    "ratio_section_means = []\n",
    "ratio_sections = []\n",
    "\n",
    "for image in red_green_ratio:\n",
    "    sections = [image[i*section_height:(i+1)*section_height, :] for i in range(num_sections)]\n",
    "    ratio_sections.append(sections)\n",
    "\n",
    "    # Calculate the mean ratio of eacjh section and append it to the list\n",
    "    ratio_section_mean = [np.nanmean(section) for section in sections]\n",
    "    ratio_section_means.append(ratio_section_mean)\n",
    "\n",
    "# Reshape array of mean ratios to \n",
    "ratio_section_means = np.reshape(ratio_section_means, (-1, num_sections))\n",
    "print(ratio_section_means)"
   ]
  },
  {
   "cell_type": "code",
   "execution_count": null,
   "metadata": {},
   "outputs": [],
   "source": [
    "# Define the image index to show\n",
    "image_idx = 0\n",
    "\n",
    "# Get an example image from the green stack and its sections to see how its divided\n",
    "image = red_stack[image_idx]\n",
    "sections = ratio_sections[image_idx]\n",
    "\n",
    "for section_idx in range(num_sections):\n",
    "    section = sections[section_idx]\n",
    "    plt.imshow(section, cmap=\"gray\")\n",
    "    plt.title(f'Image {image_idx}, Section {section_idx}')\n",
    "    plt.show()\n"
   ]
  },
  {
   "cell_type": "code",
   "execution_count": null,
   "metadata": {},
   "outputs": [],
   "source": [
    "# Calculate the mean of means for each image and the standard deviation\n",
    "ratio_mean_of_means = []\n",
    "ratio_std_of_means =[]\n",
    "\n",
    "for i in range(len(ratio_section_means)):\n",
    "    mean_ratio = np.nanmean(ratio_section_means[i])\n",
    "    std_ratio = np.nanstd(ratio_section_means[i])\n",
    "    ratio_mean_of_means.append(mean_ratio)\n",
    "    ratio_std_of_means.append(std_ratio)\n",
    "\n",
    "print(ratio_mean_of_means)\n",
    "print(ratio_std_of_means)"
   ]
  },
  {
   "cell_type": "code",
   "execution_count": null,
   "metadata": {},
   "outputs": [],
   "source": [
    "# Set the path to the directory containing the image filenames\n",
    "files_dir = 'D:/O2_Calibration_Images/RAW_2023-08-10/'\n",
    "files = [f for f in os.listdir(files_dir) if f.endswith('.tiff')]\n",
    "\n",
    "# Sort filenames to match with stack index\n",
    "files = natsorted(files)\n",
    "\n",
    "# Initialize an empty dataframe\n",
    "df_ratios = pd.DataFrame(columns=['Temperature/O2', 'Intensity Ratio', 'Intensity Red', 'Intensity Green', 'Intensity Blue', 'Std Ratio','Std Red','Std Green', 'Std Blue'])\n",
    "\n",
    "# Add filenames and corresponding red/green ratio to the dataframe\n",
    "for i in range(num_images):\n",
    "    ratio_df = ratio_mean_of_means[i]\n",
    "    std_df = ratio_std_of_means[i]\n",
    "    blue_intensity = mean_blue_intensity[i]\n",
    "    green_intensity = mean_green_intensity[i]\n",
    "    red_intensity = mean_red_intensity[i]\n",
    "    blue_std = std_blue_intensity[i]\n",
    "    green_std = std_green_intensity[i]\n",
    "    red_std = std_red_intensity[i]\n",
    "    filename = os.path.splitext(files[i])[0][24:]\n",
    "    numeric_num = float(filename.replace(\",\", \".\")) \n",
    "    df_ratios.loc[i] = [numeric_num, ratio_df, red_intensity, green_intensity, blue_intensity, std_df, red_std, green_std, blue_std]\n",
    "\n",
    "#df_ratios['Intensity Ratio'] = df_ratios['Intensity Ratio'].round(4)\n",
    "\n",
    "# Print the dataframe\n",
    "print(df_ratios)"
   ]
  },
  {
   "cell_type": "code",
   "execution_count": null,
   "metadata": {},
   "outputs": [],
   "source": [
    "#Save the DataFrame as a CSV file\n",
    "df_ratios.to_csv('D:/O2_Calibration_Images/RAW_2023-08-10/red_green_ratio.csv',header=True, index=False, decimal=',')"
   ]
  }
 ],
 "metadata": {
  "kernelspec": {
   "display_name": "Python 3",
   "language": "python",
   "name": "python3"
  },
  "language_info": {
   "codemirror_mode": {
    "name": "ipython",
    "version": 3
   },
   "file_extension": ".py",
   "mimetype": "text/x-python",
   "name": "python",
   "nbconvert_exporter": "python",
   "pygments_lexer": "ipython3",
   "version": "3.10.4"
  },
  "orig_nbformat": 4
 },
 "nbformat": 4,
 "nbformat_minor": 2
}
