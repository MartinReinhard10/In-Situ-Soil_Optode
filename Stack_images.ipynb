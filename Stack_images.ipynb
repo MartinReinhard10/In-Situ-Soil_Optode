{
 "cells": [
  {
   "cell_type": "code",
   "execution_count": 45,
   "metadata": {},
   "outputs": [],
   "source": [
    "import numpy as np\n",
    "import os\n",
    "import tifffile\n",
    "from natsort import natsorted"
   ]
  },
  {
   "cell_type": "code",
   "execution_count": 49,
   "metadata": {},
   "outputs": [
    {
     "name": "stdout",
     "output_type": "stream",
     "text": [
      "['RAW_2023-03-08_air_sat0.tiff', 'RAW_2023-03-08_air_sat0_1.tiff', 'RAW_2023-03-08_air_sat2.tiff', 'RAW_2023-03-08_air_sat10.tiff', 'RAW_2023-03-08_air_sat10_1.tiff', 'RAW_2023-03-08_air_sat10_2.tiff', 'RAW_2023-03-08_air_sat20.tiff', 'RAW_2023-03-08_air_sat20_1.tiff', 'RAW_2023-03-08_air_sat40.tiff', 'RAW_2023-03-08_air_sat50.tiff', 'RAW_2023-03-08_air_sat50_1.tiff', 'RAW_2023-03-08_air_sat75.tiff', 'RAW_2023-03-08_air_sat75_1.tiff', 'RAW_2023-03-08_air_sat80.tiff', 'RAW_2023-03-08_air_sat80_1.tiff', 'RAW_2023-03-08_air_sat100.tiff', 'RAW_2023-03-08_air_sat100_1.tiff']\n"
     ]
    }
   ],
   "source": [
    "# Set the input directory path\n",
    "input_dir = \"C:/Users/au519867/OneDrive - Aarhus universitet/Skrivebord/Raw_Images\"\n",
    "output_path = \"C:/Users/au519867/OneDrive - Aarhus universitet/Skrivebord/Raw_Images/RAW_Stacks\"\n",
    "\n",
    "# Create the output directory if it doesn't already exist\n",
    "if not os.path.exists(output_path):\n",
    "    os.makedirs(output_path)\n",
    "\n",
    "# Get a list of all TIFF files in the input directory\n",
    "input_files = [f for f in os.listdir(input_dir) if f.endswith('.tiff')]\n",
    "input_files = natsorted(input_files)\n",
    "print(input_files)\n",
    "# Initialize empty lists for the red and green stacks\n",
    "red_stack = []\n",
    "green_stack = []\n",
    "\n",
    "\n",
    "# Loop through each image file in the input directory\n",
    "for file in input_files:\n",
    "    # Load the image using tifffile\n",
    "    img = tifffile.imread(os.path.join(input_dir, file))\n",
    "    \n",
    "    # Extract the red and green channels\n",
    "    red_channel = img[1::2, 1::2]\n",
    "    green_channel_1 = img[0::2, 1::2]\n",
    "    green_channel_2 = img[1::2, 0::2]\n",
    "    green_channel = np.add(green_channel_1, green_channel_2) // 2\n",
    "     # Add the red and green channels to the corresponding stacks\n",
    "    red_stack.append(red_channel)\n",
    "    green_stack.append(green_channel)\n",
    "\n",
    "# Stack the red and green channel lists along the third axis to create the corresponding stacks\n",
    "red_stack = np.stack(red_stack, axis=0)\n",
    "green_stack = np.stack(green_stack, axis=0)\n",
    "\n",
    "# Save the red and green stacks to separate TIFF files\n",
    "tifffile.imwrite(os.path.join(output_path, \"stacked_red_channel.tiff\"), red_stack)\n",
    "tifffile.imwrite(os.path.join(output_path, \"stacked_green_channel.tiff\"), green_stack)\n"
   ]
  }
 ],
 "metadata": {
  "kernelspec": {
   "display_name": "Python 3",
   "language": "python",
   "name": "python3"
  },
  "language_info": {
   "name": "python",
   "version": "3.10.4"
  },
  "orig_nbformat": 4
 },
 "nbformat": 4,
 "nbformat_minor": 2
}
