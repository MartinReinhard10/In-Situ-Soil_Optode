{
 "cells": [
  {
   "cell_type": "code",
   "execution_count": 92,
   "metadata": {},
   "outputs": [],
   "source": [
    "from matplotlib import pyplot as plt\n",
    "import cv2 as cv\n",
    "import numpy as np\n",
    "import os\n",
    "from natsort import natsorted\n",
    "\n",
    "def plot_image(img, figsize_in_inches=(5,5)):\n",
    "    fig, ax = plt.subplots(figsize=figsize_in_inches)\n",
    "    ax.imshow(img)\n",
    "    plt.show()\n",
    "    \n",
    "def plot_images(imgs, figsize_in_inches=(5,5)):\n",
    "    fig, axs = plt.subplots(1, len(imgs), figsize=figsize_in_inches)\n",
    "    for col, img in enumerate(imgs):\n",
    "        axs[col].imshow(img)"
   ]
  },
  {
   "cell_type": "code",
   "execution_count": 115,
   "metadata": {},
   "outputs": [],
   "source": [
    "# Path to the folder containing the images\n",
    "folder_path = \"D:/Tests/Pano_order/\"\n",
    "\n",
    "# Read in the images from the folder and sort them using natsort\n",
    "files = natsorted(os.listdir(folder_path))\n",
    "images = [(os.path.join(folder_path, file )) for file in files]\n"
   ]
  },
  {
   "cell_type": "code",
   "execution_count": 156,
   "metadata": {},
   "outputs": [],
   "source": [
    "from stitching import Stitcher\n",
    "settings = {# The whole plan should be considered\n",
    "            \"crop\": False,\n",
    "            # The matches confidences aren't that good\n",
    "            \"confidence_threshold\": 0.5,\n",
    "            \"detector\": \"sift\"} \n",
    "\n",
    "stitcher = Stitcher(**settings)\n",
    "panorama = stitcher.stitch(images)\n"
   ]
  },
  {
   "cell_type": "code",
   "execution_count": null,
   "metadata": {},
   "outputs": [],
   "source": [
    "plot_image(panorama, (20,20))\n",
    "print(np.shape(panorama))\n",
    "print(panorama.dtype)"
   ]
  },
  {
   "cell_type": "code",
   "execution_count": 20,
   "metadata": {},
   "outputs": [
    {
     "data": {
      "text/plain": [
       "True"
      ]
     },
     "execution_count": 20,
     "metadata": {},
     "output_type": "execute_result"
    }
   ],
   "source": [
    "cv.imwrite(\"D:/panorama.tiff\",panorama)"
   ]
  },
  {
   "cell_type": "code",
   "execution_count": 135,
   "metadata": {},
   "outputs": [
    {
     "name": "stdout",
     "output_type": "stream",
     "text": [
      "{'estimator': 'affine', 'wave_correct_kind': 'no', 'matcher_type': 'affine', 'adjuster': 'affine', 'warper_type': 'affine', 'compensator': 'no'}\n",
      "{'medium_megapix': 0.6, 'detector': 'orb', 'nfeatures': 500, 'matcher_type': 'homography', 'range_width': -1, 'try_use_gpu': False, 'match_conf': None, 'confidence_threshold': 1, 'matches_graph_dot_file': None, 'estimator': 'homography', 'adjuster': 'ray', 'refinement_mask': 'xxxxx', 'wave_correct_kind': 'horiz', 'warper_type': 'spherical', 'low_megapix': 0.1, 'crop': True, 'compensator': 'gain_blocks', 'nr_feeds': 1, 'block_size': 32, 'finder': 'dp_color', 'final_megapix': -1, 'blender_type': 'multiband', 'blend_strength': 5, 'timelapse': 'no'}\n",
      "{'medium_megapix': 0.6, 'detector': 'orb', 'nfeatures': 500, 'matcher_type': 'affine', 'range_width': -1, 'try_use_gpu': False, 'match_conf': None, 'confidence_threshold': 1, 'matches_graph_dot_file': None, 'estimator': 'affine', 'adjuster': 'affine', 'refinement_mask': 'xxxxx', 'wave_correct_kind': 'no', 'warper_type': 'affine', 'low_megapix': 0.1, 'crop': True, 'compensator': 'no', 'nr_feeds': 1, 'block_size': 32, 'finder': 'dp_color', 'final_megapix': -1, 'blender_type': 'multiband', 'blend_strength': 5, 'timelapse': 'no'}\n"
     ]
    }
   ],
   "source": [
    "from stitching import AffineStitcher\n",
    "from stitching import Stitcher\n",
    "\n",
    "# Comparison:\n",
    "print(Stitcher.DEFAULT_SETTINGS)\n",
    "print(AffineStitcher.DEFAULT_SETTINGS)"
   ]
  }
 ],
 "metadata": {
  "kernelspec": {
   "display_name": "Python 3",
   "language": "python",
   "name": "python3"
  },
  "language_info": {
   "codemirror_mode": {
    "name": "ipython",
    "version": 3
   },
   "file_extension": ".py",
   "mimetype": "text/x-python",
   "name": "python",
   "nbconvert_exporter": "python",
   "pygments_lexer": "ipython3",
   "version": "3.10.4"
  },
  "orig_nbformat": 4
 },
 "nbformat": 4,
 "nbformat_minor": 2
}
