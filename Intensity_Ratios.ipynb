{
 "cells": [
  {
   "cell_type": "code",
   "execution_count": 1,
   "metadata": {},
   "outputs": [],
   "source": [
    "import os\n",
    "import tifffile\n",
    "import numpy as np\n",
    "import matplotlib.pyplot as plt\n",
    "import pandas as pd\n",
    "from natsort import natsorted"
   ]
  },
  {
   "cell_type": "code",
   "execution_count": 3,
   "metadata": {},
   "outputs": [
    {
     "name": "stdout",
     "output_type": "stream",
     "text": [
      "['thresholded_500_stacked_green_channel.tiff', 'thresholded_500_stacked_red_channel.tiff']\n",
      "Equal stacks\n",
      "stack= 17\n"
     ]
    }
   ],
   "source": [
    "# Set the path to the directory containing the image stacks\n",
    "stack_dir = 'C:/Users/au519867/OneDrive - Aarhus universitet/Skrivebord/Raw_Images/RAW_Stacks/Threshold'\n",
    "\n",
    "# Get a list of all TIFF files in the input directory\n",
    "files = [f for f in os.listdir(stack_dir) if f.endswith('.tiff')]\n",
    "print(files)\n",
    "\n",
    "green_stack = tifffile.imread(os.path.join(stack_dir, files[0]))\n",
    "red_stack = tifffile.imread(os.path.join(stack_dir, files[1]))\n",
    "\n",
    "#Get length of image stacks\n",
    "num_images_green = len(green_stack)\n",
    "num_images_red = len(red_stack)\n",
    "if num_images_green == num_images_red:\n",
    "    print(\"Equal stacks\")\n",
    "    num_images = num_images_green\n",
    "else:\n",
    "    print(\"unequal stacks\")\n",
    "\n",
    "print(\"stack=\",num_images)"
   ]
  },
  {
   "cell_type": "code",
   "execution_count": 4,
   "metadata": {},
   "outputs": [],
   "source": [
    "# Loop through all red/green pairs of images in the stacks an get the RED/GREEN intensity ratio\n",
    "red_green_ratio = []\n",
    "for i in range(num_images):\n",
    "\n",
    "    # Calculate the intensity ratio between the two images\n",
    "    ratio = red_stack[i] / green_stack[i]\n",
    "    red_green_ratio.append(ratio)\n"
   ]
  },
  {
   "cell_type": "code",
   "execution_count": null,
   "metadata": {},
   "outputs": [],
   "source": []
  },
  {
   "cell_type": "code",
   "execution_count": 5,
   "metadata": {},
   "outputs": [
    {
     "name": "stdout",
     "output_type": "stream",
     "text": [
      "[[1.20715981 1.20397258 1.2049972 ]\n",
      " [1.20579243 1.20206098 1.20324061]\n",
      " [1.20446657 1.20135557 1.20239338]\n",
      " [1.21445199 1.20872383 1.20981792]\n",
      " [1.20950998 1.20554957 1.20674147]\n",
      " [1.21327051 1.20795504 1.20923701]\n",
      " [1.21534777 1.20921439 1.21029878]\n",
      " [1.20776154 1.2040587  1.20514185]\n",
      " [1.21218088 1.20722208 1.20852215]\n",
      " [1.20778391 1.20420967 1.20515521]\n",
      " [1.2056193  1.20217082 1.20308588]\n",
      " [1.21476595 1.20855333 1.20972513]\n",
      " [1.21403181 1.20852801 1.20966131]\n",
      " [1.2162087  1.20997643 1.21104665]\n",
      " [1.20837839 1.20432336 1.20542848]\n",
      " [1.21276701 1.20772333 1.20905402]\n",
      " [1.2063193  1.20271453 1.2035331 ]]\n"
     ]
    }
   ],
   "source": [
    "# Define number of sections for each image to calculate mean ratios\n",
    "num_sections = 3\n",
    "\n",
    "# Calculate the height of each section\n",
    "section_height = green_stack.shape[1] // num_sections\n",
    "\n",
    "# Loop over eack image in the ratio stack and divide it into sections\n",
    "ratio_section_means = []\n",
    "ratio_sections = []\n",
    "for image in red_green_ratio:\n",
    "    sections = [image[i*section_height:(i+1)*section_height, :] for i in range(num_sections)]\n",
    "    ratio_sections.append(sections)\n",
    "\n",
    "    # Calculate the mean ratio of eacjh section and append it to the list\n",
    "    ratio_section_mean = [np.nanmean(section) for section in sections]\n",
    "    ratio_section_means.append(ratio_section_mean)\n",
    "\n",
    "# Reshape array of mean ratios to \n",
    "ratio_section_means = np.reshape(ratio_section_means, (-1, num_sections))\n",
    "print(ratio_section_means)"
   ]
  },
  {
   "cell_type": "code",
   "execution_count": null,
   "metadata": {},
   "outputs": [],
   "source": [
    "# Define the image index to show\n",
    "image_idx = 0\n",
    "\n",
    "# Get an example image from the green stack and its sections to see how its divided\n",
    "image = green_stack[image_idx]\n",
    "sections = ratio_sections[image_idx]\n",
    "\n",
    "for section_idx in range(num_sections):\n",
    "    section = sections[section_idx]\n",
    "    plt.imshow(section, cmap=\"gray\")\n",
    "    plt.title(f'Image {image_idx}, Section {section_idx}')\n",
    "    plt.show()\n"
   ]
  },
  {
   "cell_type": "code",
   "execution_count": 6,
   "metadata": {},
   "outputs": [
    {
     "name": "stdout",
     "output_type": "stream",
     "text": [
      "[1.2053765292146064, 1.2036980079007533, 1.2027385077208799, 1.210997915646123, 1.2072670054932113, 1.2101541838456837, 1.2116203147393654, 1.2056540306777093, 1.2093083698737388, 1.2057162653526106, 1.2036253329778432, 1.2110148036952528, 1.2107403733671787, 1.2124105901790285, 1.206043408006954, 1.209848122762385, 1.204188975066656]\n",
      "[0.0013285437372074955, 0.0015573148622364745, 0.0012932953873152542, 0.002482908196039782, 0.001658986486404666, 0.0022648728845296134, 0.002672631795609724, 0.0015544585045703591, 0.0020993671233719992, 0.0015121484809913867, 0.001458599810778995, 0.0026952544853574103, 0.002372936193799388, 0.002720973270741532, 0.0017116095961831896, 0.002134264275098215, 0.0015429907740241436]\n"
     ]
    }
   ],
   "source": [
    "# Calculate the mean of means for each image and the standard deviation\n",
    "ratio_mean_of_means = []\n",
    "ratio_std_of_means =[]\n",
    "\n",
    "for i in range(len(ratio_section_means)):\n",
    "    mean_ratio = np.nanmean(ratio_section_means[i])\n",
    "    std_ratio = np.nanstd(ratio_section_means[i])\n",
    "    ratio_mean_of_means.append(mean_ratio)\n",
    "    ratio_std_of_means.append(std_ratio)\n",
    "\n",
    "print(ratio_mean_of_means)\n",
    "print(ratio_std_of_means)"
   ]
  },
  {
   "cell_type": "code",
   "execution_count": null,
   "metadata": {},
   "outputs": [],
   "source": []
  },
  {
   "cell_type": "code",
   "execution_count": 17,
   "metadata": {},
   "outputs": [
    {
     "name": "stdout",
     "output_type": "stream",
     "text": [
      "   Air Saturation  Intensity Ratio       Std\n",
      "0               0           1.2054  0.001329\n",
      "1               2           1.2037  0.001557\n",
      "2              10           1.2027  0.001293\n",
      "3              20           1.2110  0.002483\n",
      "4              40           1.2073  0.001659\n",
      "5              50           1.2102  0.002265\n",
      "6              75           1.2116  0.002673\n",
      "7              80           1.2057  0.001554\n",
      "8             100           1.2093  0.002099\n",
      "9               0           1.2057  0.001512\n",
      "10             10           1.2036  0.001459\n",
      "11             20           1.2110  0.002695\n",
      "12             50           1.2107  0.002373\n",
      "13             75           1.2124  0.002721\n",
      "14             80           1.2060  0.001712\n",
      "15            100           1.2098  0.002134\n",
      "16             10           1.2042  0.001543\n"
     ]
    }
   ],
   "source": [
    "# Set the path to the directory containing the image filenames\n",
    "files_dir = 'C:/Users/au519867/OneDrive - Aarhus universitet/Skrivebord/Raw_Images'\n",
    "files = [f for f in os.listdir(files_dir) if f.endswith('.tiff')]\n",
    "\n",
    "# Sort filenames to match with stack index\n",
    "files = natsorted(files)\n",
    "\n",
    "# Initialize an empty dataframe\n",
    "df_ratios = pd.DataFrame(columns=['Air Saturation', 'Intensity Ratio', 'Std'])\n",
    "\n",
    "# Add filenames and corresponding red/green ratio to the dataframe\n",
    "for i in range(num_images):\n",
    "    ratio_df = ratio_mean_of_means[i]\n",
    "    std_df = ratio_std_of_means[i]\n",
    "    filename = os.path.splitext(files[i])[0][24:]  # get the filename without extension\n",
    "    df_ratios.loc[i] = [filename, ratio_df, std_df]\n",
    "\n",
    "df_ratios['Intensity Ratio'] = df_ratios['Intensity Ratio'].round(4)\n",
    "\n",
    "# Print the dataframe\n",
    "print(df_ratios)"
   ]
  },
  {
   "cell_type": "code",
   "execution_count": 18,
   "metadata": {},
   "outputs": [
    {
     "data": {
      "image/png": "[encoded data removed]",
      "text/plain": [
       "<Figure size 640x480 with 1 Axes>"
      ]
     },
     "metadata": {},
     "output_type": "display_data"
    }
   ],
   "source": [
    "# Create Scatterplot with errorbars\n",
    "plt.errorbar(x=df_ratios['Air Saturation'], y=df_ratios['Intensity Ratio'], yerr=df_ratios['Std'], fmt='o')\n",
    "\n",
    "\n",
    "# Set X-axis limits\n",
    "#plt.ylim(ymin=1, ymax=2.5)\n",
    "plt.show()"
   ]
  },
  {
   "cell_type": "code",
   "execution_count": null,
   "metadata": {},
   "outputs": [],
   "source": [
    "#Save the DataFrame as a CSV file\n",
    "df_ratios.to_csv('C:/Users/au519867/OneDrive - Aarhus universitet/Skrivebord/Raw_Images/RAW_Stacks/Intensity_Ratio/ratio_data.csv',header=True, index=False, decimal=',')"
   ]
  }
 ],
 "metadata": {
  "kernelspec": {
   "display_name": "Python 3",
   "language": "python",
   "name": "python3"
  },
  "language_info": {
   "codemirror_mode": {
    "name": "ipython",
    "version": 3
   },
   "file_extension": ".py",
   "mimetype": "text/x-python",
   "name": "python",
   "nbconvert_exporter": "python",
   "pygments_lexer": "ipython3",
   "version": "3.10.4"
  },
  "orig_nbformat": 4
 },
 "nbformat": 4,
 "nbformat_minor": 2
}
