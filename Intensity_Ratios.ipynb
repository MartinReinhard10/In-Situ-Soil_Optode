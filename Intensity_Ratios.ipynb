{
 "cells": [
  {
   "cell_type": "code",
   "execution_count": null,
   "metadata": {},
   "outputs": [],
   "source": [
    "import os\n",
    "import tifffile\n",
    "import numpy as np\n",
    "import matplotlib.pyplot as plt\n",
    "import pandas as pd\n",
    "from natsort import natsorted"
   ]
  },
  {
   "cell_type": "code",
   "execution_count": null,
   "metadata": {},
   "outputs": [],
   "source": [
    "# Set the path to the directory containing the image stacks\n",
    "stack_dir = 'C:/Users/au519867/OneDrive - Aarhus universitet/Skrivebord/Raw_Images/RAW_Stacks/Threshold'\n",
    "\n",
    "# Get a list of all TIFF files in the input directory\n",
    "files = [f for f in os.listdir(stack_dir) if f.endswith('.tiff')]\n",
    "print(files)\n",
    "\n",
    "green_stack = tifffile.imread(os.path.join(stack_dir, files[0]))\n",
    "red_stack = tifffile.imread(os.path.join(stack_dir, files[1]))\n",
    "\n",
    "#Get length of image stacks\n",
    "num_images_green = len(green_stack)\n",
    "num_images_red = len(red_stack)\n",
    "if num_images_green == num_images_red:\n",
    "    print(\"Equal stacks\")\n",
    "    num_images = num_images_green\n",
    "else:\n",
    "    print(\"unequal stacks\")\n",
    "\n",
    "print(\"stack=\",num_images)"
   ]
  },
  {
   "cell_type": "code",
   "execution_count": null,
   "metadata": {},
   "outputs": [],
   "source": [
    "# Loop through all red/green pairs of images in the stacks an get the RED/GREEN intensity ratio\n",
    "red_green_ratio = []\n",
    "for i in range(num_images):\n",
    "\n",
    "    # Calculate the intensity ratio between the two images\n",
    "    ratio = red_stack[i] / green_stack[i]\n",
    "    red_green_ratio.append(ratio)\n"
   ]
  },
  {
   "cell_type": "code",
   "execution_count": null,
   "metadata": {},
   "outputs": [],
   "source": [
    "# Define number of sections for each image to calculate mean ratios\n",
    "num_sections = 3\n",
    "\n",
    "# Calculate the height of each section\n",
    "section_height = green_stack.shape[1] // num_sections\n",
    "\n",
    "# Loop over eack image in the ratio stack and divide it into sections\n",
    "ratio_section_means = []\n",
    "ratio_sections = []\n",
    "for image in red_green_ratio:\n",
    "    sections = [image[i*section_height:(i+1)*section_height, :] for i in range(num_sections)]\n",
    "    ratio_sections.append(sections)\n",
    "\n",
    "    # Calculate the mean ratio of eacjh section and append it to the list\n",
    "    ratio_section_mean = [np.nanmean(section) for section in sections]\n",
    "    ratio_section_means.append(ratio_section_mean)\n",
    "\n",
    "# Reshape array of mean ratios to \n",
    "ratio_section_means = np.reshape(ratio_section_means, (-1, num_sections))\n",
    "print(ratio_section_means)"
   ]
  },
  {
   "cell_type": "code",
   "execution_count": null,
   "metadata": {},
   "outputs": [],
   "source": [
    "# Define the image index to show\n",
    "image_idx = 0\n",
    "\n",
    "# Get an example image from the green stack and its sections to see how its divided\n",
    "image = green_stack[image_idx]\n",
    "sections = ratio_sections[image_idx]\n",
    "\n",
    "for section_idx in range(num_sections):\n",
    "    section = sections[section_idx]\n",
    "    plt.imshow(section, cmap=\"gray\")\n",
    "    plt.title(f'Image {image_idx}, Section {section_idx}')\n",
    "    plt.show()\n"
   ]
  },
  {
   "cell_type": "code",
   "execution_count": null,
   "metadata": {},
   "outputs": [],
   "source": [
    "# Calculate the mean of means for each image and the standard deviation\n",
    "ratio_mean_of_means = []\n",
    "ratio_std_of_means =[]\n",
    "\n",
    "for i in range(len(ratio_section_means)):\n",
    "    mean_ratio = np.nanmean(ratio_section_means[i])\n",
    "    std_ratio = np.nanstd(ratio_section_means[i])\n",
    "    ratio_mean_of_means.append(mean_ratio)\n",
    "    ratio_std_of_means.append(std_ratio)\n",
    "\n",
    "print(ratio_mean_of_means)\n",
    "print(ratio_std_of_means)"
   ]
  },
  {
   "cell_type": "code",
   "execution_count": null,
   "metadata": {},
   "outputs": [],
   "source": [
    "# Set the path to the directory containing the image filenames\n",
    "files_dir = 'C:/Users/au519867/OneDrive - Aarhus universitet/Skrivebord/Raw_Images'\n",
    "files = [f for f in os.listdir(files_dir) if f.endswith('.tiff')]\n",
    "\n",
    "# Sort filenames to match with stack index\n",
    "files = natsorted(files)\n",
    "\n",
    "# Initialize an empty dataframe\n",
    "df_ratios = pd.DataFrame(columns=['Air Saturation', 'Intensity Ratio', 'Std'])\n",
    "\n",
    "# Add filenames and corresponding red/green ratio to the dataframe\n",
    "for i in range(num_images):\n",
    "    ratio_df = ratio_mean_of_means[i]\n",
    "    std_df = ratio_std_of_means[i]\n",
    "    filename = os.path.splitext(files[i])[0][22:]  # get the filename without extension\n",
    "    df_ratios.loc[i] = [filename, ratio_df, std_df]\n",
    "\n",
    "df_ratios['Intensity Ratio'] = df_ratios['Intensity Ratio'].round(2)\n",
    "\n",
    "# Print the dataframe\n",
    "print(df_ratios)"
   ]
  },
  {
   "cell_type": "code",
   "execution_count": null,
   "metadata": {},
   "outputs": [],
   "source": [
    "# Create Scatterplot with errorbars\n",
    "plt.errorbar(x=df_ratios['Air Saturation'], y=df_ratios['Intensity Ratio'], yerr=df_ratios['Std'], fmt='o')\n",
    "\n",
    "# Set X-axis limits\n",
    "#plt.ylim(ymin=1, ymax=2.5)\n",
    "plt.show()"
   ]
  },
  {
   "cell_type": "code",
   "execution_count": null,
   "metadata": {},
   "outputs": [],
   "source": [
    " #Save the DataFrame as a CSV file\n",
    "df_ratios.to_csv('C:/Users/au519867/OneDrive - Aarhus universitet/Skrivebord/Raw_Images/RAW_Stacks/Intensity_Ratio/ratio_data.csv',header=True, index=False, decimal=',')"
   ]
  }
 ],
 "metadata": {
  "kernelspec": {
   "display_name": "Python 3",
   "language": "python",
   "name": "python3"
  },
  "language_info": {
   "codemirror_mode": {
    "name": "ipython",
    "version": 3
   },
   "file_extension": ".py",
   "mimetype": "text/x-python",
   "name": "python",
   "nbconvert_exporter": "python",
   "pygments_lexer": "ipython3",
   "version": "3.10.4"
  },
  "orig_nbformat": 4
 },
 "nbformat": 4,
 "nbformat_minor": 2
}
