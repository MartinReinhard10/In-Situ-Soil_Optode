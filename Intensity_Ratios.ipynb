{
 "cells": [
  {
   "cell_type": "code",
   "execution_count": null,
   "metadata": {},
   "outputs": [],
   "source": [
    "import os\n",
    "import tifffile\n",
    "import numpy as np\n",
    "import matplotlib.pyplot as plt\n",
    "import pandas as pd\n",
    "from natsort import natsorted"
   ]
  },
  {
   "cell_type": "code",
   "execution_count": null,
   "metadata": {},
   "outputs": [],
   "source": [
    "# Set the path to the directory containing the image stacks\n",
    "stack_dir = 'C:/Users/au519867/OneDrive - Aarhus universitet/Skrivebord/Raw_Images/RAW_Stacks/Threshold'\n",
    "\n",
    "# Get a list of all TIFF files in the input directory\n",
    "files = [f for f in os.listdir(stack_dir) if f.endswith('.tiff')]\n",
    "\n",
    "green_stack = tifffile.imread(os.path.join(stack_dir, files[0]))\n",
    "red_stack = tifffile.imread(os.path.join(stack_dir, files[1]))"
   ]
  },
  {
   "cell_type": "code",
   "execution_count": null,
   "metadata": {},
   "outputs": [],
   "source": [
    "\n",
    "# Define number of sections for each image to calculate means\n",
    "num_sections = 3\n",
    "\n",
    "# Calculate the height of each section\n",
    "section_height = green_stack.shape[1] // num_sections\n",
    "\n",
    "# Loop over each image in the green stack and divide it into sections\n",
    "green_section_means = []\n",
    "green_sections = []\n",
    "for image in green_stack:\n",
    "    # Divide the image into sections\n",
    "    sections = [image[i*section_height:(i+1)*section_height, :] for i in range(num_sections)]\n",
    "    green_sections.append(sections)\n",
    "    \n",
    "    # Calculate the mean intensity of each section and append it to the list\n",
    "    green_section_mean = [np.nanmean(section) for section in sections]\n",
    "    green_section_means.append(green_section_mean)\n",
    "\n",
    "green_section_means = np.reshape(green_section_means, (-1, num_sections))\n",
    "print(green_section_means)\n",
    "\n",
    "# Loop over each image in the red stack and divide it into sections\n",
    "red_section_means = []\n",
    "red_sections = []\n",
    "for image in red_stack:\n",
    "    sections = [image[i*section_height:(i+1)*section_height, :] for i in range(num_sections)]\n",
    "    red_sections.append(sections)\n",
    "    \n",
    "    # Calculate the mean intensity of each section and append it to the list\n",
    "    red_section_mean = [np.nanmean(section) for section in sections]\n",
    "    red_section_means.append(red_section_mean)\n",
    "\n",
    "red_section_means = np.reshape(red_section_means, (-1, num_sections))\n",
    "print(red_section_means)\n"
   ]
  },
  {
   "cell_type": "code",
   "execution_count": null,
   "metadata": {},
   "outputs": [],
   "source": [
    "# Define the image index to show\n",
    "image_idx = 0\n",
    "\n",
    "# Get an example image from the green stack and its sections to see how its divided\n",
    "image = green_stack[image_idx]\n",
    "sections = green_sections[image_idx]\n",
    "\n",
    "for section_idx in range(num_sections):\n",
    "    section = sections[section_idx]\n",
    "    plt.imshow(section, cmap=\"gray\")\n",
    "    plt.title(f'Image {image_idx}, Section {section_idx}')\n",
    "    plt.show()\n"
   ]
  },
  {
   "cell_type": "code",
   "execution_count": null,
   "metadata": {},
   "outputs": [],
   "source": [
    "green_mean_of_means = []\n",
    "for i in range(len(green_section_means)):\n",
    "    mean_green = np.nanmean(green_section_means[i])\n",
    "    green_mean_of_means.append(mean_green)\n",
    "\n",
    "print(green_mean_of_means)\n",
    "\n",
    "red_mean_of_means = []\n",
    "for i in range(len(red_section_means)):\n",
    "    mean_red = np.nanmean(red_section_means[i])\n",
    "    red_mean_of_means.append(mean_red)\n",
    "\n",
    "print(red_mean_of_means)\n"
   ]
  },
  {
   "cell_type": "code",
   "execution_count": null,
   "metadata": {},
   "outputs": [],
   "source": [
    "# Loop through all pairs of images in the directory\n",
    "for i in range(len(green_stack)):\n",
    "\n",
    "    # Calculate the intensity ratio between the two images\n",
    "    ratio = red_mean_of_means[i] / green_mean_of_means[i]\n",
    "    \n",
    "    # Print the intensity ratio\n",
    "    print(f'Image {i+1}: Intensity ratio = {ratio:.2f}')"
   ]
  },
  {
   "cell_type": "code",
   "execution_count": null,
   "metadata": {},
   "outputs": [],
   "source": [
    "# sort filenames to match with stack index\n",
    "files = natsorted(files)\n",
    "# Initialize an empty dataframe\n",
    "df_ratios = pd.DataFrame(columns=['Image', 'Intensity Ratio'])\n",
    "\n",
    "# Loop through all pairs of images in the directory\n",
    "for i in range(len(green_stack)):\n",
    "    # Calculate the intensity ratio between the two images\n",
    "    ratio = red_mean_of_means[i] / green_mean_of_means[i]\n",
    "    \n",
    "    # Add the ratio to the dataframe, along with the filename of the green image\n",
    "    filename = os.path.splitext(files[i])[0]  # get the filename without extension\n",
    "    df_ratios.loc[i] = [filename, ratio]\n",
    "\n",
    "# Round the intensity ratios to 2 decimal points\n",
    "df_ratios['Intensity Ratio'] = df_ratios['Intensity Ratio'].round(2)\n",
    "\n",
    "# Print the dataframe\n",
    "print(df_ratios)"
   ]
  },
  {
   "cell_type": "code",
   "execution_count": null,
   "metadata": {},
   "outputs": [],
   "source": []
  }
 ],
 "metadata": {
  "kernelspec": {
   "display_name": "Python 3",
   "language": "python",
   "name": "python3"
  },
  "language_info": {
   "codemirror_mode": {
    "name": "ipython",
    "version": 3
   },
   "file_extension": ".py",
   "mimetype": "text/x-python",
   "name": "python",
   "nbconvert_exporter": "python",
   "pygments_lexer": "ipython3",
   "version": "3.10.4"
  },
  "orig_nbformat": 4
 },
 "nbformat": 4,
 "nbformat_minor": 2
}
